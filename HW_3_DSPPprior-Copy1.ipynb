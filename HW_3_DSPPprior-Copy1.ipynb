{
 "cells": [
  {
   "cell_type": "code",
   "execution_count": 1,
   "metadata": {},
   "outputs": [],
   "source": [
    "import PyPDF2\n",
    "import pandas as pd\n",
    "import requests\n",
    "from bs4 import BeautifulSoup\n",
    "import spacy\n",
    "import urllib\n",
    "import os\n",
    "import re\n",
    "     "
   ]
  },
  {
   "cell_type": "code",
   "execution_count": 2,
   "metadata": {},
   "outputs": [],
   "source": [
    "nlp = spacy.load(\"en_core_web_sm\")"
   ]
  },
  {
   "cell_type": "code",
   "execution_count": 3,
   "metadata": {},
   "outputs": [
    {
     "name": "stdout",
     "output_type": "stream",
     "text": [
      "['https://www.eia.gov/outlooks/aeo/pdf/aeo2018.pdf', 'https://www.eia.gov/outlooks/aeo/pdf/aeo2019.pdf']\n"
     ]
    }
   ],
   "source": [
    "head_url='https://www.eia.gov/outlooks/aeo/pdf/aeo'\n",
    "tail_url='.pdf'\n",
    "years=[2018,2019]\n",
    "urls=[]\n",
    "for year in years:\n",
    "    urls.append(head_url+str(year)+tail_url)\n",
    "\n",
    "print(urls)"
   ]
  },
  {
   "cell_type": "code",
   "execution_count": 12,
   "metadata": {},
   "outputs": [],
   "source": [
    "url_2019 = \"https://www.eia.gov/outlooks/aeo/pdf/aeo2019.pdf\"\n",
    "url_2018 = \"https://www.eia.gov/outlooks/aeo/pdf/aeo2018.pdf\" \n",
    "response_2019= requests.get(url_2019)\n",
    "response_2018=requests.get(url_2018)"
   ]
  },
  {
   "cell_type": "code",
   "execution_count": 15,
   "metadata": {},
   "outputs": [],
   "source": [
    "folder='/Users/andrewweis/Documents/GitHub/DataSkills/'\n",
    "#url=\"https://www.eia.gov/outlooks/aeo/pdf/aeo2018.pdf\"\n",
    "pdfslist=[]"
   ]
  },
  {
   "cell_type": "code",
   "execution_count": 16,
   "metadata": {},
   "outputs": [],
   "source": [
    "def download_energy(years):\n",
    "    for year in years:\n",
    "        url='https://www.eia.gov/outlooks/aeo/pdf/aeo'+str(year)+'.pdf'\n",
    "        print(year)\n",
    "        response=requests.get(url)\n",
    "    #for url in urls:\n",
    "     #   response = requests.get(url)\n",
    "      #  year=\n",
    "\n",
    "        with open(os.path.join(folder, 'aeo'+str(year)+'.pdf'), 'wb') as ofile:\n",
    "            ofile.write(response.content)\n",
    "        \n",
    "        pdfslist.append(folder+'aeo'+str(year)+'.pdf')\n",
    "    return pdfslist\n",
    "        #with open(os.path.join(r'C:\\Users\\WAQAR\\Desktop\\Grad School Apps and resources\\Python\\Assignment 3', 'aeo2018.pdf'), 'wb') as ofile:\n",
    "         #   ofile.write(response_2018.content)\n",
    "        "
   ]
  },
  {
   "cell_type": "code",
   "execution_count": null,
   "metadata": {},
   "outputs": [],
   "source": [
    "pdfslist=download_energy(years)"
   ]
  },
  {
   "cell_type": "code",
   "execution_count": 19,
   "metadata": {},
   "outputs": [
    {
     "name": "stdout",
     "output_type": "stream",
     "text": [
      "['/Users/andrewweis/Documents/GitHub/DataSkills/aeo2018.pdf', '/Users/andrewweis/Documents/GitHub/DataSkills/aeo2019.pdf']\n"
     ]
    }
   ],
   "source": [
    "print(pdfslist)"
   ]
  },
  {
   "cell_type": "code",
   "execution_count": 32,
   "metadata": {},
   "outputs": [
    {
     "name": "stdout",
     "output_type": "stream",
     "text": [
      "0\n",
      "/Users/andrewweis/Documents/GitHub/DataSkills/aeo2018.pdf\n",
      "1\n",
      "/Users/andrewweis/Documents/GitHub/DataSkills/aeo2019.pdf\n"
     ]
    }
   ],
   "source": [
    "pdftext=[]\n",
    "for i in [0,1]:\n",
    "    print(i)\n",
    "    print(pdfslist[i])\n",
    "    pdftext.append(PyPDF2.PdfFileReader(pdfslist[i]))\n",
    "#for pdf in pdfslist:\n",
    " #   pdftext"
   ]
  },
  {
   "cell_type": "code",
   "execution_count": 26,
   "metadata": {},
   "outputs": [],
   "source": [
    "    \n",
    "    \n",
    "pdf_2019 = PyPDF2.PdfFileReader(folder+'aeo2019.pdf')\n",
    "pdf_2018 = PyPDF2.PdfFileReader(folder+'aeo2018.pdf')\n",
    "\n",
    "\n",
    "pages_2019 = []\n",
    "for p in range(pdf_2019.numPages):\n",
    "    page_19 = pdf_2019.getPage(p)\n",
    "    text_19 = page_19.extractText()\n",
    "    pages_2019.append(text_19)\n",
    "\n",
    "pages_2018 = []\n",
    "for p in range(pdf_2018.numPages):\n",
    "    page_18 = pdf_2018.getPage(p)\n",
    "    text_18 = page_18.extractText()\n",
    "    pages_2018.append(text_18)"
   ]
  },
  {
   "cell_type": "code",
   "execution_count": 27,
   "metadata": {},
   "outputs": [],
   "source": [
    "'''\n",
    "Here we organize the different pages into their individual entites to prepare for analyzing them\n",
    "\n",
    "'''\n",
    "\n",
    "pages_2019_analyze = pages_2019[5:40]\n",
    "pages_2018_analyze = pages_2018[5:40]\n",
    "\n"
   ]
  },
  {
   "cell_type": "code",
   "execution_count": null,
   "metadata": {},
   "outputs": [],
   "source": [
    "page_5_2019= nlp(pages_2019_analyze[4])\n",
    "page_6_2019= nlp(pages_2019_analyze[5])\n",
    "page_7_2019= nlp(pages_2019_analyze[6])\n",
    "page_8_2019= nlp(pages_2019_analyze[7])\n",
    "page_9_2019= nlp(pages_2019_analyze[8])\n",
    "page_10_2019= nlp(pages_2019_analyze[9])\n",
    "page_11_2019= nlp(pages_2019_analyze[10])\n",
    "page_12_2019= nlp(pages_2019_analyze[11])\n",
    "page_13_2019= nlp(pages_2019_analyze[12])\n",
    "page_14_2019= nlp(pages_2019_analyze[13])\n",
    "page_15_2019= nlp(pages_2019_analyze[14])\n",
    "page_16_2019= nlp(pages_2019_analyze[15])\n",
    "page_17_2019= nlp(pages_2019_analyze[16])\n",
    "page_18_2019= nlp(pages_2019_analyze[17])\n",
    "page_19_2019= nlp(pages_2019_analyze[18])\n",
    "page_20_2019= nlp(pages_2019_analyze[19])\n",
    "page_21_2019= nlp(pages_2019_analyze[20])\n",
    "page_22_2019= nlp(pages_2019_analyze[21])\n",
    "page_23_2019= nlp(pages_2019_analyze[22])\n",
    "page_24_2019= nlp(pages_2019_analyze[23])\n",
    "page_25_2019= nlp(pages_2019_analyze[24])\n",
    "page_26_2019= nlp(pages_2019_analyze[25])\n",
    "page_27_2019= nlp(pages_2019_analyze[26])\n",
    "page_28_2019= nlp(pages_2019_analyze[27])\n",
    "page_29_2019= nlp(pages_2019_analyze[28])\n",
    "page_30_2019= nlp(pages_2019_analyze[29])\n",
    "page_31_2019= nlp(pages_2019_analyze[30])\n",
    "page_32_2019= nlp(pages_2019_analyze[31])\n",
    "page_33_2019= nlp(pages_2019_analyze[32])"
   ]
  },
  {
   "cell_type": "code",
   "execution_count": 34,
   "metadata": {},
   "outputs": [
    {
     "data": {
      "text/plain": [
       "U.S. Energy Information Administration\n",
       "www.eia.gov/aeo\n",
       "#AEO2019U.S. Energy Information Administration\n",
       "75U.S. dry natural gas production increases as a result of continued \n",
       "development of tight and shale resourcesŠ\n",
       "010\n",
       "20\n",
       "30\n",
       "40\n",
       "50\n",
       "60200020102020203020402050\n",
       "Drynatural gas production by type\n",
       "trillion cubic feet\n",
       "Reference\n",
       "tight/shale \n",
       "gas\n",
       "other\n",
       "Lower \n",
       "\n",
       "48 \n",
       "onshore\n",
       "lower 48 \n",
       "offshore\n",
       "other2018history   projections\n",
       "20102020203020402050\n",
       "High Oil and Gas \n",
       "Resource and \n",
       "Technology\n",
       "2018history   projections\n",
       "20102020203020402050\n",
       "Low Oil and Gas \n",
       "Resource and \n",
       "\n",
       "Technology\n",
       "2018history   projections\n",
       "U.S. Energy Information Administration\n",
       "www.eia.gov/aeo\n",
       "#AEO2019U.S. Energy Information Administration\n",
       "ŁNatural gas production from shale gas and tight oil pl\n",
       "ays as a share of total U.\n",
       "S. natural gas production \n",
       "continues to grow in both share and absolute vo\n",
       "lume because of the sheer size of the associated \n",
       "resources, which extend over nearly 500,000 square \n",
       "miles, and because of impr\n",
       "ovements in technology \n",
       "that allow for the development of these resources at lower costs. \n",
       "ŁIn the High Oil and Gas Resource and Technolo\n",
       "gy case, which has more optimistic assumptions \n",
       "regarding resource size and recovery rates, cumula\n",
       "tive production from shale gas and tight oil is 18% \n",
       "higher than in the Reference case. Conversely, in \n",
       "the Low Oil and Gas Resource and Technology case, \n",
       "cumulative production from those resources is 24% lower.\n",
       "ŁAcross all cases, onshore production of natural gas fr\n",
       "om sources other than tigh\n",
       "t oil and shale gas, such \n",
       "as coalbed methane, generally continues to declin\n",
       "e through 2050 because of\n",
       " unfavorable economic \n",
       "conditions for producing that resource.\n",
       "ŁOffshore natural gas production in the United States re\n",
       "mains nearly flat during the projection period in all \n",
       "cases as a result of production fr\n",
       "om new discoveries that generally of\n",
       "fsets declines in legacy fields.\n",
       "Šwhich account for nearly 90% \n",
       "of dry natural gas production \n",
       "in 205076"
      ]
     },
     "execution_count": 34,
     "metadata": {},
     "output_type": "execute_result"
    }
   ],
   "source": [
    "for i in range(5,34):\n",
    "    #print(i)\n",
    "    page_str(i)_2019=nlp(pages_2019_analyze[i-1])\n",
    "    \n",
    "#page_5_2019\n",
    "page_i_2019"
   ]
  },
  {
   "cell_type": "code",
   "execution_count": 29,
   "metadata": {},
   "outputs": [
    {
     "name": "stdout",
     "output_type": "stream",
     "text": [
      "5\n",
      "6\n",
      "7\n",
      "8\n",
      "9\n",
      "10\n",
      "11\n",
      "12\n",
      "13\n",
      "14\n",
      "15\n",
      "16\n",
      "17\n",
      "18\n",
      "19\n",
      "20\n",
      "21\n",
      "22\n",
      "23\n",
      "24\n",
      "25\n",
      "26\n",
      "27\n",
      "28\n",
      "29\n",
      "30\n",
      "31\n",
      "32\n",
      "33\n",
      "2019\n"
     ]
    }
   ],
   "source": [
    "pages2019=[]\n",
    "print('2019')\n",
    "for i in range(5,34):\n",
    "    #print(i)\n",
    "    pages2019 += nlp(pages_2019_analyze[i-1])\n",
    "    "
   ]
  },
  {
   "cell_type": "code",
   "execution_count": 30,
   "metadata": {},
   "outputs": [
    {
     "name": "stdout",
     "output_type": "stream",
     "text": [
      "9773\n"
     ]
    },
    {
     "ename": "NameError",
     "evalue": "name 'pages2018' is not defined",
     "output_type": "error",
     "traceback": [
      "\u001b[0;31m---------------------------------------------------------------------------\u001b[0m",
      "\u001b[0;31mNameError\u001b[0m                                 Traceback (most recent call last)",
      "\u001b[0;32m<ipython-input-30-ebd4c1a41d6c>\u001b[0m in \u001b[0;36m<module>\u001b[0;34m\u001b[0m\n\u001b[1;32m      1\u001b[0m \u001b[0mprint\u001b[0m\u001b[0;34m(\u001b[0m\u001b[0mlen\u001b[0m\u001b[0;34m(\u001b[0m\u001b[0mpages2019\u001b[0m\u001b[0;34m)\u001b[0m\u001b[0;34m)\u001b[0m\u001b[0;34m\u001b[0m\u001b[0;34m\u001b[0m\u001b[0m\n\u001b[0;32m----> 2\u001b[0;31m \u001b[0mprint\u001b[0m\u001b[0;34m(\u001b[0m\u001b[0mlen\u001b[0m\u001b[0;34m(\u001b[0m\u001b[0mpages2018\u001b[0m\u001b[0;34m)\u001b[0m\u001b[0;34m)\u001b[0m\u001b[0;34m\u001b[0m\u001b[0;34m\u001b[0m\u001b[0m\n\u001b[0m",
      "\u001b[0;31mNameError\u001b[0m: name 'pages2018' is not defined"
     ]
    }
   ],
   "source": [
    "print(len(pages2019))\n",
    "print(len(pages2018))\n"
   ]
  },
  {
   "cell_type": "code",
   "execution_count": 16,
   "metadata": {},
   "outputs": [
    {
     "data": {
      "text/plain": [
       "'\\nBroke down the pages into individual pages for both 2019 and 2018.\\n'"
      ]
     },
     "execution_count": 16,
     "metadata": {},
     "output_type": "execute_result"
    }
   ],
   "source": [
    "page_5_2018= nlp(pages_2018_analyze[4])\n",
    "page_6_2018= nlp(pages_2018_analyze[5])\n",
    "page_7_2018= nlp(pages_2018_analyze[6])\n",
    "page_8_2018= nlp(pages_2018_analyze[7])\n",
    "page_9_2018= nlp(pages_2018_analyze[8])\n",
    "page_10_2018= nlp(pages_2018_analyze[9])\n",
    "page_11_2018= nlp(pages_2018_analyze[10])\n",
    "page_12_2018= nlp(pages_2018_analyze[11])\n",
    "page_13_2018= nlp(pages_2018_analyze[12])\n",
    "page_14_2018= nlp(pages_2018_analyze[13])\n",
    "page_15_2018= nlp(pages_2018_analyze[14])\n",
    "page_16_2018= nlp(pages_2018_analyze[15])\n",
    "page_17_2018= nlp(pages_2018_analyze[16])\n",
    "page_18_2018= nlp(pages_2018_analyze[17])\n",
    "page_19_2018= nlp(pages_2018_analyze[18])\n",
    "page_20_2018= nlp(pages_2018_analyze[19])\n",
    "page_21_2018= nlp(pages_2018_analyze[20])\n",
    "page_22_2018= nlp(pages_2018_analyze[21])\n",
    "page_23_2018= nlp(pages_2018_analyze[22])\n",
    "page_24_2018= nlp(pages_2018_analyze[23])\n",
    "page_25_2018= nlp(pages_2018_analyze[24])\n",
    "page_26_2018= nlp(pages_2018_analyze[25])\n",
    "page_27_2018= nlp(pages_2018_analyze[26])\n",
    "page_28_2018= nlp(pages_2018_analyze[27])\n",
    "page_29_2018= nlp(pages_2018_analyze[28])\n",
    "page_30_2018= nlp(pages_2018_analyze[29])\n",
    "page_31_2018= nlp(pages_2018_analyze[30])\n",
    "page_32_2018= nlp(pages_2018_analyze[31])\n",
    "page_33_2018= nlp(pages_2018_analyze[32])\n",
    "'''\n",
    "Broke down the pages into individual pages for both 2019 and 2018.\n",
    "'''\n"
   ]
  },
  {
   "cell_type": "code",
   "execution_count": 17,
   "metadata": {},
   "outputs": [],
   "source": [
    "pages2018=[]\n",
    "for i in range(5,34):\n",
    "    pages2018 += nlp(pages_2018_analyze[i-1])"
   ]
  },
  {
   "cell_type": "code",
   "execution_count": 71,
   "metadata": {},
   "outputs": [
    {
     "name": "stdout",
     "output_type": "stream",
     "text": [
      "[coal, coal, coal, coal, coal]\n",
      "[]\n"
     ]
    }
   ],
   "source": [
    "coal_mentions_2019 = [t for t in pages2019 if t.text == 'coal']\n",
    "print(coal_mentions_2019)\n",
    "\n",
    "Coal_mentions_2019= [t for t in pages2019 if t.text == 'Coal']\n",
    "print(Coal_mentions_2019)\n",
    "\n"
   ]
  },
  {
   "cell_type": "code",
   "execution_count": 67,
   "metadata": {},
   "outputs": [
    {
     "data": {
      "text/plain": [
       "[solar,\n",
       " solar,\n",
       " solar,\n",
       " solar,\n",
       " solar,\n",
       " solar,\n",
       " solar,\n",
       " solar,\n",
       " solar,\n",
       " solar,\n",
       " solar,\n",
       " solar,\n",
       " solar,\n",
       " solar,\n",
       " solar,\n",
       " solar,\n",
       " solar]"
      ]
     },
     "execution_count": 67,
     "metadata": {},
     "output_type": "execute_result"
    }
   ],
   "source": [
    "solar_mentions_2019 = [t for t in pages2019 if t.text == 'solar']\n",
    "solar_mentions_2019\n"
   ]
  },
  {
   "cell_type": "code",
   "execution_count": null,
   "metadata": {},
   "outputs": [],
   "source": [
    "\n",
    "\n"
   ]
  },
  {
   "cell_type": "code",
   "execution_count": 131,
   "metadata": {},
   "outputs": [],
   "source": [
    "'''\n",
    "This part creates tokens and ancestors depending on attribute we are looking for\n",
    "'''\n",
    "\n",
    "oil_prices = ['oil', 'Oil','price', 'Price','prices']\n",
    "oil_production= ['oil', 'Oil','production', 'Production']\n",
    "oil_trade= ['oil', 'Oil','import', 'Import', 'export', 'Export']\n",
    "oil_emissions= ['oil', 'Oil','emission', 'Emission', 'emissions', 'Emissions']\n",
    "\n",
    "\n",
    "oil_tokens_prices_19 = [t for t in pages2019 if any([e in t.string for e in oil_prices])]\n",
    "oil_ancestors_prices_19 = [list(t.ancestors) for t in oil_tokens_prices_19]\n",
    "\n",
    "\n",
    "oil_tokens_production_19= [t for t in pages2019 if any([e in t.string for e in oil_production])]\n",
    "oil_ancestors_production_19 = [list(t.ancestors) for t in oil_tokens_production_19]\n",
    "\n",
    "oil_tokens_trade_19= [t for t in pages2019 if any([e in t.string for e in oil_trade])]\n",
    "oil_ancestors_trade_19 = [list(t.ancestors) for t in oil_tokens_trade_19]\n",
    "\n",
    "oil_tokens_emissions_19= [t for t in pages2019 if any([e in t.string for e in oil_emissions])]\n",
    "oil_ancestors_emissions_19 = [list(t.ancestors) for t in oil_tokens_emissions_19]\n"
   ]
  },
  {
   "cell_type": "code",
   "execution_count": null,
   "metadata": {},
   "outputs": [],
   "source": [
    "oil_children = [list(t.children) for t in oil_tokens_prices]\n"
   ]
  },
  {
   "cell_type": "code",
   "execution_count": 132,
   "metadata": {},
   "outputs": [
    {
     "data": {
      "text/plain": [
       "{'up': 28, 'down': 4, 'unchanged': 20}"
      ]
     },
     "execution_count": 132,
     "metadata": {},
     "output_type": "execute_result"
    }
   ],
   "source": [
    "'''\n",
    "counters have been put seperately since we saw that sometimes in our code, if we call the code many times, it started to add from previous times\n",
    "'''\n",
    "up = ['raise', 'increase', 'up', 'increases','upgrades', 'growth', 'Growth', 'boost','High','high' 'rise', 'grows', 'increasing', 'rises']\n",
    "down = ['lower', 'decrease', 'down', 'losses', 'drops', 'collapse', 'Lower', 'Low', 'low']\n",
    "unchanged = ['unchanged', 'same','remained', 'continue', 'remain', 'continues','remains']\n",
    "\n",
    "counters_oil_price_19 = {'up': 0, 'down': 0, 'unchanged': 0}\n",
    "counters_oil_production_19 = {'up': 0, 'down': 0, 'unchanged': 0}\n",
    "counters_oil_trade_19 = {'up': 0, 'down': 0, 'unchanged': 0}\n",
    "counters_oil_emissions_19 = {'up': 0, 'down': 0, 'unchanged': 0}\n"
   ]
  },
  {
   "cell_type": "code",
   "execution_count": null,
   "metadata": {},
   "outputs": [],
   "source": [
    "for word in oil_ancestors_prices_19:\n",
    "    for ancestor in word:\n",
    "        if ancestor.text in up:\n",
    "            counters_oil_price_19['up'] += 1\n",
    "        elif ancestor.text in down:\n",
    "            counters_oil_price_19['down'] += 1\n",
    "        elif ancestor.text in unchanged:\n",
    "            counters_oil_price_19['unchanged'] += 1\n",
    "\n",
    "                   \n",
    "counters_oil_price_19\n",
    "\n",
    "# Since there are more counts for up than for down or unchanged we will say that prices for oil are increasing as per 2019 projections.\n"
   ]
  },
  {
   "cell_type": "code",
   "execution_count": 138,
   "metadata": {},
   "outputs": [
    {
     "data": {
      "text/plain": [
       "{'up': 132, 'down': 9, 'unchanged': 69}"
      ]
     },
     "execution_count": 138,
     "metadata": {},
     "output_type": "execute_result"
    }
   ],
   "source": [
    "for word in oil_ancestors_production_19:\n",
    "    for ancestor in word:\n",
    "        if ancestor.text in up:\n",
    "            counters_oil_production_19['up'] += 1\n",
    "        elif ancestor.text in down:\n",
    "            counters_oil_production_19['down'] += 1\n",
    "        elif ancestor.text in unchanged:\n",
    "            counters_oil_production_19['unchanged'] += 1\n",
    "\n",
    "                   \n",
    "counters_oil_production_19"
   ]
  },
  {
   "cell_type": "code",
   "execution_count": 137,
   "metadata": {},
   "outputs": [
    {
     "data": {
      "text/plain": [
       "{'up': 58, 'down': 6, 'unchanged': 34}"
      ]
     },
     "execution_count": 137,
     "metadata": {},
     "output_type": "execute_result"
    }
   ],
   "source": [
    "for word in oil_ancestors_trade_19:\n",
    "    for ancestor in word:\n",
    "        if ancestor.text in up:\n",
    "            counters_oil_trade_19['up'] += 1\n",
    "        elif ancestor.text in down:\n",
    "            counters_oil_trade_19['down'] += 1\n",
    "        elif ancestor.text in unchanged:\n",
    "            counters_oil_trade_19['unchanged'] += 1\n",
    "\n",
    "                   \n",
    "counters_oil_trade_19"
   ]
  },
  {
   "cell_type": "code",
   "execution_count": 136,
   "metadata": {},
   "outputs": [
    {
     "data": {
      "text/plain": [
       "{'up': 17, 'down': 3, 'unchanged': 15}"
      ]
     },
     "execution_count": 136,
     "metadata": {},
     "output_type": "execute_result"
    }
   ],
   "source": [
    "for word in oil_ancestors_emissions_19:\n",
    "    for ancestor in word:\n",
    "        if ancestor.text in up:\n",
    "            counters_oil_emissions_19['up'] += 1\n",
    "        elif ancestor.text in down:\n",
    "            counters_oil_emissions_19['down'] += 1\n",
    "        elif ancestor.text in unchanged:\n",
    "            counters_oil_emissions_19['unchanged'] += 1\n",
    "\n",
    "                   \n",
    "counters_oil_emissions_19\n"
   ]
  },
  {
   "cell_type": "code",
   "execution_count": 106,
   "metadata": {},
   "outputs": [
    {
     "data": {
      "text/plain": [
       "{'up': 28, 'down': 40, 'unchanged': 0}"
      ]
     },
     "execution_count": 106,
     "metadata": {},
     "output_type": "execute_result"
    }
   ],
   "source": [
    "'''\n",
    "Question to ask is if the children matter or not? An analysis is that one can see what is the \"net\" effect between ancestors and children counts\n",
    "'''\n",
    "count_oil = {'up': 0, 'down': 0, 'unchanged': 0}\n",
    "for word in oil_children:\n",
    "    for ancestor in word:\n",
    "        if ancestor.text in up:\n",
    "            count_oil['up'] += 1\n",
    "        elif ancestor.text in down:\n",
    "            count_oil['down'] += 1\n",
    "        elif ancestor.text in unchanged:\n",
    "            count_oil['unchanged'] += 1\n",
    "count_oil"
   ]
  },
  {
   "cell_type": "code",
   "execution_count": 140,
   "metadata": {},
   "outputs": [],
   "source": [
    "'''\n",
    "Same process as for oil as above only now wherever the word oil was coming up now there is coal.\n",
    "\n",
    "'''\n",
    "#Step 1\n",
    "\n",
    "coal_prices = ['coal', 'Coal','price', 'Price','prices']\n",
    "coal_production= ['coal', 'Coal','production', 'Production']\n",
    "coal_trade= ['coal', 'Coal','import', 'Import', 'export', 'Export']\n",
    "coal_emissions= ['coal', 'Coal','emission', 'Emission', 'emissions', 'Emissions']\n",
    "\n",
    "\n",
    "coal_tokens_prices_19 = [t for t in pages2019 if any([e in t.string for e in coal_prices])]\n",
    "coal_ancestors_prices_19 = [list(t.ancestors) for t in coal_tokens_prices_19]\n",
    "\n",
    "\n",
    "coal_tokens_production_19= [t for t in pages2019 if any([e in t.string for e in coal_production])]\n",
    "coal_ancestors_production_19 = [list(t.ancestors) for t in coal_tokens_production_19]\n",
    "\n",
    "coal_tokens_trade_19= [t for t in pages2019 if any([e in t.string for e in coal_trade])]\n",
    "coal_ancestors_trade_19 = [list(t.ancestors) for t in coal_tokens_trade_19]\n",
    "\n",
    "coal_tokens_emissions_19= [t for t in pages2019 if any([e in t.string for e in coal_emissions])]\n",
    "coal_ancestors_emissions_19 = [list(t.ancestors) for t in coal_tokens_emissions_19]\n"
   ]
  },
  {
   "cell_type": "code",
   "execution_count": 141,
   "metadata": {},
   "outputs": [],
   "source": [
    "#Step 2\n",
    "counters_coal_price_19 = {'up': 0, 'down': 0, 'unchanged': 0}\n",
    "counters_coal_production_19 = {'up': 0, 'down': 0, 'unchanged': 0}\n",
    "counters_coal_trade_19 = {'up': 0, 'down': 0, 'unchanged': 0}\n",
    "counters_coal_emissions_19 = {'up': 0, 'down': 0, 'unchanged': 0}"
   ]
  },
  {
   "cell_type": "code",
   "execution_count": 144,
   "metadata": {},
   "outputs": [
    {
     "data": {
      "text/plain": [
       "{'up': 33, 'down': 9, 'unchanged': 18}"
      ]
     },
     "execution_count": 144,
     "metadata": {},
     "output_type": "execute_result"
    }
   ],
   "source": [
    "#Step 3.1\n",
    "for word in coal_ancestors_prices_19:\n",
    "    for ancestor in word:\n",
    "        if ancestor.text in up:\n",
    "            counters_coal_price_19['up'] += 1\n",
    "        elif ancestor.text in down:\n",
    "            counters_coal_price_19['down'] += 1\n",
    "        elif ancestor.text in unchanged:\n",
    "            counters_coal_price_19['unchanged'] += 1\n",
    "                   \n",
    "counters_coal_price_19"
   ]
  },
  {
   "cell_type": "code",
   "execution_count": 145,
   "metadata": {},
   "outputs": [
    {
     "data": {
      "text/plain": [
       "{'up': 28, 'down': 3, 'unchanged': 9}"
      ]
     },
     "execution_count": 145,
     "metadata": {},
     "output_type": "execute_result"
    }
   ],
   "source": [
    "#step 3.2\n",
    "for word in coal_ancestors_production_19:\n",
    "    for ancestor in word:\n",
    "        if ancestor.text in up:\n",
    "            counters_coal_production_19['up'] += 1\n",
    "        elif ancestor.text in down:\n",
    "            counters_coal_production_19['down'] += 1\n",
    "        elif ancestor.text in unchanged:\n",
    "            counters_coal_production_19['unchanged'] += 1\n",
    "\n",
    "counters_coal_production_19\n",
    "        "
   ]
  },
  {
   "cell_type": "code",
   "execution_count": 146,
   "metadata": {},
   "outputs": [
    {
     "data": {
      "text/plain": [
       "{'up': 12, 'down': 2, 'unchanged': 3}"
      ]
     },
     "execution_count": 146,
     "metadata": {},
     "output_type": "execute_result"
    }
   ],
   "source": [
    "#Step 3.3\n",
    "for word in coal_ancestors_trade_19:\n",
    "    for ancestor in word:\n",
    "        if ancestor.text in up:\n",
    "            counters_coal_trade_19['up'] += 1\n",
    "        elif ancestor.text in down:\n",
    "            counters_coal_trade_19['down'] += 1\n",
    "        elif ancestor.text in unchanged:\n",
    "            counters_coal_trade_19['unchanged'] += 1\n",
    "\n",
    "counters_coal_trade_19"
   ]
  },
  {
   "cell_type": "code",
   "execution_count": 147,
   "metadata": {},
   "outputs": [
    {
     "data": {
      "text/plain": [
       "{'up': 0, 'down': 2, 'unchanged': 1}"
      ]
     },
     "execution_count": 147,
     "metadata": {},
     "output_type": "execute_result"
    }
   ],
   "source": [
    "#Step 3.4\n",
    "for word in coal_ancestors_emissions_19:\n",
    "    for ancestor in word:\n",
    "        if ancestor.text in up:\n",
    "            counters_coal_emissions_19['up'] += 1\n",
    "        elif ancestor.text in down:\n",
    "            counters_coal_emissions_19['down'] += 1\n",
    "        elif ancestor.text in unchanged:\n",
    "            counters_coal_emissions_19['unchanged'] += 1\n",
    "                  \n",
    "counters_coal_emissions_19"
   ]
  },
  {
   "cell_type": "code",
   "execution_count": 149,
   "metadata": {},
   "outputs": [],
   "source": [
    "'''\n",
    "Repeating all steps as above for coal and oil for solar. \n",
    "'''\n",
    "\n",
    "solar_prices = ['solar', 'Solar','price', 'Price','prices']\n",
    "solar_production= ['solar', 'Solar','production', 'Production']\n",
    "solar_trade= ['solar', 'Solar','import', 'Import', 'export', 'Export']\n",
    "solar_emissions= ['solar', 'Solar','emission', 'Emission', 'emissions', 'Emissions']\n",
    "\n",
    "\n",
    "solar_tokens_prices_19 = [t for t in pages2019 if any([e in t.string for e in solar_prices])]\n",
    "solar_ancestors_prices_19 = [list(t.ancestors) for t in solar_tokens_prices_19]\n",
    "\n",
    "\n",
    "solar_tokens_production_19= [t for t in pages2019 if any([e in t.string for e in solar_production])]\n",
    "solar_ancestors_production_19 = [list(t.ancestors) for t in solar_tokens_production_19]\n",
    "\n",
    "solar_tokens_trade_19= [t for t in pages2019 if any([e in t.string for e in solar_trade])]\n",
    "solar_ancestors_trade_19 = [list(t.ancestors) for t in solar_tokens_trade_19]\n",
    "\n",
    "solar_tokens_emissions_19= [t for t in pages2019 if any([e in t.string for e in solar_emissions])]\n",
    "solar_ancestors_emissions_19 = [list(t.ancestors) for t in solar_tokens_emissions_19]\n"
   ]
  },
  {
   "cell_type": "code",
   "execution_count": 150,
   "metadata": {},
   "outputs": [],
   "source": [
    "counters_solar_price_19 = {'up': 0, 'down': 0, 'unchanged': 0}\n",
    "counters_solar_production_19 = {'up': 0, 'down': 0, 'unchanged': 0}\n",
    "counters_solar_trade_19 = {'up': 0, 'down': 0, 'unchanged': 0}\n",
    "counters_solar_emissions_19 = {'up': 0, 'down': 0, 'unchanged': 0}"
   ]
  },
  {
   "cell_type": "code",
   "execution_count": 152,
   "metadata": {},
   "outputs": [
    {
     "data": {
      "text/plain": [
       "{'up': 12, 'down': 1, 'unchanged': 8}"
      ]
     },
     "execution_count": 152,
     "metadata": {},
     "output_type": "execute_result"
    }
   ],
   "source": [
    "for word in solar_ancestors_prices_19:\n",
    "    for ancestor in word:\n",
    "        if ancestor.text in up:\n",
    "            counters_solar_price_19['up'] += 1\n",
    "        elif ancestor.text in down:\n",
    "            counters_solar_price_19['down'] += 1\n",
    "        elif ancestor.text in unchanged:\n",
    "            counters_solar_price_19['unchanged'] += 1\n",
    "                   \n",
    "counters_solar_price_19"
   ]
  },
  {
   "cell_type": "code",
   "execution_count": 153,
   "metadata": {},
   "outputs": [
    {
     "data": {
      "text/plain": [
       "{'up': 28, 'down': 3, 'unchanged': 9}"
      ]
     },
     "execution_count": 153,
     "metadata": {},
     "output_type": "execute_result"
    }
   ],
   "source": [
    "for word in coal_ancestors_production_19:\n",
    "    for ancestor in word:\n",
    "        if ancestor.text in up:\n",
    "            counters_solar_production_19['up'] += 1\n",
    "        elif ancestor.text in down:\n",
    "            counters_solar_production_19['down'] += 1\n",
    "        elif ancestor.text in unchanged:\n",
    "            counters_solar_production_19['unchanged'] += 1\n",
    "\n",
    "counters_solar_production_19"
   ]
  },
  {
   "cell_type": "code",
   "execution_count": 154,
   "metadata": {},
   "outputs": [
    {
     "data": {
      "text/plain": [
       "{'up': 13, 'down': 0, 'unchanged': 5}"
      ]
     },
     "execution_count": 154,
     "metadata": {},
     "output_type": "execute_result"
    }
   ],
   "source": [
    "for word in solar_ancestors_trade_19:\n",
    "    for ancestor in word:\n",
    "        if ancestor.text in up:\n",
    "            counters_solar_trade_19['up'] += 1\n",
    "        elif ancestor.text in down:\n",
    "            counters_solar_trade_19['down'] += 1\n",
    "        elif ancestor.text in unchanged:\n",
    "            counters_solar_trade_19['unchanged'] += 1\n",
    "\n",
    "counters_solar_trade_19"
   ]
  },
  {
   "cell_type": "code",
   "execution_count": 155,
   "metadata": {},
   "outputs": [
    {
     "data": {
      "text/plain": [
       "{'up': 2, 'down': 0, 'unchanged': 6}"
      ]
     },
     "execution_count": 155,
     "metadata": {},
     "output_type": "execute_result"
    }
   ],
   "source": [
    "for word in solar_ancestors_emissions_19:\n",
    "    for ancestor in word:\n",
    "        if ancestor.text in up:\n",
    "            counters_solar_emissions_19['up'] += 1\n",
    "        elif ancestor.text in down:\n",
    "            counters_solar_emissions_19['down'] += 1\n",
    "        elif ancestor.text in unchanged:\n",
    "            counters_solar_emissions_19['unchanged'] += 1\n",
    "     \n",
    "counters_solar_emissions_19    "
   ]
  },
  {
   "cell_type": "code",
   "execution_count": 160,
   "metadata": {},
   "outputs": [],
   "source": [
    "'''\n",
    "Repeating steps for wind\n",
    "\n",
    "'''\n",
    "\n",
    "wind_prices = ['wind', 'Wind','price', 'Price','prices']\n",
    "wind_production= ['wind', 'Wind','production', 'Production']\n",
    "wind_trade= ['wind', 'Wind','import', 'Import', 'export', 'Export']\n",
    "wind_emissions= ['wind', 'Wind','emission', 'Emission', 'emissions', 'Emissions']\n",
    "\n",
    "\n",
    "wind_tokens_prices_19 = [t for t in pages2019 if any([e in t.string for e in wind_prices])]\n",
    "wind_ancestors_prices_19 = [list(t.ancestors) for t in wind_tokens_prices_19]\n",
    "\n",
    "\n",
    "wind_tokens_production_19= [t for t in pages2019 if any([e in t.string for e in wind_production])]\n",
    "wind_ancestors_production_19 = [list(t.ancestors) for t in wind_tokens_production_19]\n",
    "\n",
    "wind_tokens_trade_19= [t for t in pages2019 if any([e in t.string for e in wind_trade])]\n",
    "wind_ancestors_trade_19 = [list(t.ancestors) for t in wind_tokens_trade_19]\n",
    "\n",
    "wind_tokens_emissions_19= [t for t in pages2019 if any([e in t.string for e in wind_emissions])]\n",
    "wind_ancestors_emissions_19 = [list(t.ancestors) for t in wind_tokens_emissions_19]\n"
   ]
  },
  {
   "cell_type": "code",
   "execution_count": 162,
   "metadata": {},
   "outputs": [],
   "source": [
    "counters_wind_price_19 = {'up': 0, 'down': 0, 'unchanged': 0}\n",
    "counters_wind_production_19 = {'up': 0, 'down': 0, 'unchanged': 0}\n",
    "counters_wind_trade_19 = {'up': 0, 'down': 0, 'unchanged': 0}\n",
    "counters_wind_emissions_19 = {'up': 0, 'down': 0, 'unchanged': 0}"
   ]
  },
  {
   "cell_type": "code",
   "execution_count": 163,
   "metadata": {},
   "outputs": [],
   "source": [
    "'''\n",
    "organized all the functions to call for wind over different attributes here.\n",
    "'''\n",
    "\n",
    "for word in wind_ancestors_prices_19:\n",
    "    for ancestor in word:\n",
    "        if ancestor.text in up:\n",
    "            counters_wind_price_19['up'] += 1\n",
    "        elif ancestor.text in down:\n",
    "            counters_wind_price_19['down'] += 1\n",
    "        elif ancestor.text in unchanged:\n",
    "            counters_wind_price_19['unchanged'] += 1\n",
    "                   \n",
    "\n",
    "for word in wind_ancestors_production_19:\n",
    "    for ancestor in word:\n",
    "        if ancestor.text in up:\n",
    "            counters_wind_production_19['up'] += 1\n",
    "        elif ancestor.text in down:\n",
    "            counters_wind_production_19['down'] += 1\n",
    "        elif ancestor.text in unchanged:\n",
    "            counters_wind_production_19['unchanged'] += 1\n",
    "\n",
    "for word in wind_ancestors_trade_19:\n",
    "    for ancestor in word:\n",
    "        if ancestor.text in up:\n",
    "            counters_wind_trade_19['up'] += 1\n",
    "        elif ancestor.text in down:\n",
    "            counters_wind_trade_19['down'] += 1\n",
    "        elif ancestor.text in unchanged:\n",
    "            counters_wind_trade_19['unchanged'] += 1\n",
    "\n",
    "for word in wind_ancestors_emissions_19:\n",
    "    for ancestor in word:\n",
    "        if ancestor.text in up:\n",
    "            counters_wind_emissions_19['up'] += 1\n",
    "        elif ancestor.text in down:\n",
    "            counters_wind_emissions_19['down'] += 1\n",
    "        elif ancestor.text in unchanged:\n",
    "            counters_wind_emissions_19['unchanged'] += 1"
   ]
  },
  {
   "cell_type": "code",
   "execution_count": 165,
   "metadata": {},
   "outputs": [
    {
     "data": {
      "text/plain": [
       "{'up': 12, 'down': 1, 'unchanged': 5}"
      ]
     },
     "execution_count": 165,
     "metadata": {},
     "output_type": "execute_result"
    }
   ],
   "source": [
    "counters_wind_price_19 "
   ]
  },
  {
   "cell_type": "code",
   "execution_count": 166,
   "metadata": {},
   "outputs": [
    {
     "data": {
      "text/plain": [
       "{'up': 29, 'down': 1, 'unchanged': 8}"
      ]
     },
     "execution_count": 166,
     "metadata": {},
     "output_type": "execute_result"
    }
   ],
   "source": [
    "counters_wind_production_19 "
   ]
  },
  {
   "cell_type": "code",
   "execution_count": 171,
   "metadata": {},
   "outputs": [
    {
     "data": {
      "text/plain": [
       "{'up': 13, 'down': 0, 'unchanged': 2}"
      ]
     },
     "execution_count": 171,
     "metadata": {},
     "output_type": "execute_result"
    }
   ],
   "source": [
    "counters_wind_trade_19"
   ]
  },
  {
   "cell_type": "code",
   "execution_count": 168,
   "metadata": {},
   "outputs": [
    {
     "data": {
      "text/plain": [
       "{'up': 1, 'down': 0, 'unchanged': 0}"
      ]
     },
     "execution_count": 168,
     "metadata": {},
     "output_type": "execute_result"
    }
   ],
   "source": [
    "counters_wind_emissions_19 "
   ]
  },
  {
   "cell_type": "code",
   "execution_count": 172,
   "metadata": {},
   "outputs": [],
   "source": [
    "'''\n",
    "repeating process for nuclear power\n",
    "'''\n",
    "\n",
    "\n",
    "nuclear_prices = ['nuclear', 'Nuclear','price', 'Price','prices']\n",
    "nuclear_production= ['nuclear', 'Nuclear','production', 'Production']\n",
    "nuclear_trade= ['nuclear', 'Nuclear','import', 'Import', 'export', 'Export']\n",
    "nuclear_emissions= ['nuclear', 'Nuclear','emission', 'Emission', 'emissions', 'Emissions']\n",
    "\n",
    "\n",
    "nuclear_tokens_prices_19 = [t for t in pages2019 if any([e in t.string for e in nuclear_prices])]\n",
    "nuclear_ancestors_prices_19 = [list(t.ancestors) for t in nuclear_tokens_prices_19]\n",
    "\n",
    "\n",
    "nuclear_tokens_production_19= [t for t in pages2019 if any([e in t.string for e in nuclear_production])]\n",
    "nuclear_ancestors_production_19 = [list(t.ancestors) for t in nuclear_tokens_production_19]\n",
    "\n",
    "nuclear_tokens_trade_19= [t for t in pages2019 if any([e in t.string for e in nuclear_trade])]\n",
    "nuclear_ancestors_trade_19 = [list(t.ancestors) for t in nuclear_tokens_trade_19]\n",
    "\n",
    "nuclear_tokens_emissions_19= [t for t in pages2019 if any([e in t.string for e in nuclear_emissions])]\n",
    "nuclear_ancestors_emissions_19 = [list(t.ancestors) for t in nuclear_tokens_emissions_19]\n"
   ]
  },
  {
   "cell_type": "code",
   "execution_count": 173,
   "metadata": {},
   "outputs": [],
   "source": [
    "counters_nuclear_price_19 = {'up': 0, 'down': 0, 'unchanged': 0}\n",
    "counters_nuclear_production_19 = {'up': 0, 'down': 0, 'unchanged': 0}\n",
    "counters_nuclear_trade_19 = {'up': 0, 'down': 0, 'unchanged': 0}\n",
    "counters_nuclear_emissions_19 = {'up': 0, 'down': 0, 'unchanged': 0}"
   ]
  },
  {
   "cell_type": "code",
   "execution_count": 174,
   "metadata": {},
   "outputs": [],
   "source": [
    "'''\n",
    "organized all the functions to call for nuclear over different attributes here.\n",
    "'''\n",
    "\n",
    "for word in nuclear_ancestors_prices_19:\n",
    "    for ancestor in word:\n",
    "        if ancestor.text in up:\n",
    "            counters_nuclear_price_19['up'] += 1\n",
    "        elif ancestor.text in down:\n",
    "            counters_nuclear_price_19['down'] += 1\n",
    "        elif ancestor.text in unchanged:\n",
    "            counters_nuclear_price_19['unchanged'] += 1\n",
    "                   \n",
    "\n",
    "for word in wind_ancestors_production_19:\n",
    "    for ancestor in word:\n",
    "        if ancestor.text in up:\n",
    "            counters_nuclear_production_19['up'] += 1\n",
    "        elif ancestor.text in down:\n",
    "            counters_nuclear_production_19['down'] += 1\n",
    "        elif ancestor.text in unchanged:\n",
    "            counters_nuclear_production_19['unchanged'] += 1\n",
    "\n",
    "for word in nuclear_ancestors_trade_19:\n",
    "    for ancestor in word:\n",
    "        if ancestor.text in up:\n",
    "            counters_nuclear_trade_19['up'] += 1\n",
    "        elif ancestor.text in down:\n",
    "            counters_nuclear_trade_19['down'] += 1\n",
    "        elif ancestor.text in unchanged:\n",
    "            counters_nuclear_trade_19['unchanged'] += 1\n",
    "\n",
    "for word in nuclear_ancestors_emissions_19:\n",
    "    for ancestor in word:\n",
    "        if ancestor.text in up:\n",
    "            counters_nuclear_emissions_19['up'] += 1\n",
    "        elif ancestor.text in down:\n",
    "            counters_nuclear_emissions_19['down'] += 1\n",
    "        elif ancestor.text in unchanged:\n",
    "            counters_nuclear_emissions_19['unchanged'] += 1"
   ]
  },
  {
   "cell_type": "code",
   "execution_count": 175,
   "metadata": {},
   "outputs": [
    {
     "data": {
      "text/plain": [
       "{'up': 11, 'down': 2, 'unchanged': 5}"
      ]
     },
     "execution_count": 175,
     "metadata": {},
     "output_type": "execute_result"
    }
   ],
   "source": [
    "counters_nuclear_price_19\n",
    "#Since up is more than down and unchanged combined we will say nuclear prices are going up."
   ]
  },
  {
   "cell_type": "code",
   "execution_count": 176,
   "metadata": {},
   "outputs": [
    {
     "data": {
      "text/plain": [
       "{'up': 29, 'down': 1, 'unchanged': 8}"
      ]
     },
     "execution_count": 176,
     "metadata": {},
     "output_type": "execute_result"
    }
   ],
   "source": [
    "counters_nuclear_production_19\n",
    "#Since up is more than down and unchanged combined we will say nuclear production is going up."
   ]
  },
  {
   "cell_type": "code",
   "execution_count": 177,
   "metadata": {},
   "outputs": [
    {
     "data": {
      "text/plain": [
       "{'up': 12, 'down': 1, 'unchanged': 2}"
      ]
     },
     "execution_count": 177,
     "metadata": {},
     "output_type": "execute_result"
    }
   ],
   "source": [
    "counters_nuclear_trade_19\n",
    "\n",
    "#Since up is more than down and unchanged combined we will say nuclear trade is going up."
   ]
  },
  {
   "cell_type": "code",
   "execution_count": 178,
   "metadata": {},
   "outputs": [
    {
     "data": {
      "text/plain": [
       "{'up': 0, 'down': 1, 'unchanged': 0}"
      ]
     },
     "execution_count": 178,
     "metadata": {},
     "output_type": "execute_result"
    }
   ],
   "source": [
    "counters_nuclear_emissions_19\n",
    "# Only one value for down is all that is shown. Hence it will be hard to make a judgement."
   ]
  },
  {
   "cell_type": "code",
   "execution_count": 2,
   "metadata": {},
   "outputs": [
    {
     "data": {
      "text/plain": [
       "'\\nAnalyzing 2018 data\\n'"
      ]
     },
     "execution_count": 2,
     "metadata": {},
     "output_type": "execute_result"
    }
   ],
   "source": [
    "'''\n",
    "Analyzing 2018 data\n",
    "'''"
   ]
  },
  {
   "cell_type": "code",
   "execution_count": 18,
   "metadata": {},
   "outputs": [
    {
     "ename": "NameError",
     "evalue": "name 'oil_prices' is not defined",
     "output_type": "error",
     "traceback": [
      "\u001b[0;31m---------------------------------------------------------------------------\u001b[0m",
      "\u001b[0;31mNameError\u001b[0m                                 Traceback (most recent call last)",
      "\u001b[0;32m<ipython-input-18-4c03ec4ee1f3>\u001b[0m in \u001b[0;36m<module>\u001b[0;34m\u001b[0m\n\u001b[0;32m----> 1\u001b[0;31m \u001b[0moil_tokens_prices_18\u001b[0m \u001b[0;34m=\u001b[0m \u001b[0;34m[\u001b[0m\u001b[0mt\u001b[0m \u001b[0;32mfor\u001b[0m \u001b[0mt\u001b[0m \u001b[0;32min\u001b[0m \u001b[0mpages2018\u001b[0m \u001b[0;32mif\u001b[0m \u001b[0many\u001b[0m\u001b[0;34m(\u001b[0m\u001b[0;34m[\u001b[0m\u001b[0me\u001b[0m \u001b[0;32min\u001b[0m \u001b[0mt\u001b[0m\u001b[0;34m.\u001b[0m\u001b[0mstring\u001b[0m \u001b[0;32mfor\u001b[0m \u001b[0me\u001b[0m \u001b[0;32min\u001b[0m \u001b[0moil_prices\u001b[0m\u001b[0;34m]\u001b[0m\u001b[0;34m)\u001b[0m\u001b[0;34m]\u001b[0m\u001b[0;34m\u001b[0m\u001b[0;34m\u001b[0m\u001b[0m\n\u001b[0m\u001b[1;32m      2\u001b[0m \u001b[0moil_ancestors_prices_18\u001b[0m \u001b[0;34m=\u001b[0m \u001b[0;34m[\u001b[0m\u001b[0mlist\u001b[0m\u001b[0;34m(\u001b[0m\u001b[0mt\u001b[0m\u001b[0;34m.\u001b[0m\u001b[0mancestors\u001b[0m\u001b[0;34m)\u001b[0m \u001b[0;32mfor\u001b[0m \u001b[0mt\u001b[0m \u001b[0;32min\u001b[0m \u001b[0moil_tokens_prices_18\u001b[0m\u001b[0;34m]\u001b[0m\u001b[0;34m\u001b[0m\u001b[0;34m\u001b[0m\u001b[0m\n\u001b[1;32m      3\u001b[0m \u001b[0;34m\u001b[0m\u001b[0m\n\u001b[1;32m      4\u001b[0m \u001b[0;34m\u001b[0m\u001b[0m\n\u001b[1;32m      5\u001b[0m \u001b[0moil_tokens_production_18\u001b[0m\u001b[0;34m=\u001b[0m \u001b[0;34m[\u001b[0m\u001b[0mt\u001b[0m \u001b[0;32mfor\u001b[0m \u001b[0mt\u001b[0m \u001b[0;32min\u001b[0m \u001b[0mpages2018\u001b[0m \u001b[0;32mif\u001b[0m \u001b[0many\u001b[0m\u001b[0;34m(\u001b[0m\u001b[0;34m[\u001b[0m\u001b[0me\u001b[0m \u001b[0;32min\u001b[0m \u001b[0mt\u001b[0m\u001b[0;34m.\u001b[0m\u001b[0mstring\u001b[0m \u001b[0;32mfor\u001b[0m \u001b[0me\u001b[0m \u001b[0;32min\u001b[0m \u001b[0moil_production\u001b[0m\u001b[0;34m]\u001b[0m\u001b[0;34m)\u001b[0m\u001b[0;34m]\u001b[0m\u001b[0;34m\u001b[0m\u001b[0;34m\u001b[0m\u001b[0m\n",
      "\u001b[0;32m<ipython-input-18-4c03ec4ee1f3>\u001b[0m in \u001b[0;36m<listcomp>\u001b[0;34m(.0)\u001b[0m\n\u001b[0;32m----> 1\u001b[0;31m \u001b[0moil_tokens_prices_18\u001b[0m \u001b[0;34m=\u001b[0m \u001b[0;34m[\u001b[0m\u001b[0mt\u001b[0m \u001b[0;32mfor\u001b[0m \u001b[0mt\u001b[0m \u001b[0;32min\u001b[0m \u001b[0mpages2018\u001b[0m \u001b[0;32mif\u001b[0m \u001b[0many\u001b[0m\u001b[0;34m(\u001b[0m\u001b[0;34m[\u001b[0m\u001b[0me\u001b[0m \u001b[0;32min\u001b[0m \u001b[0mt\u001b[0m\u001b[0;34m.\u001b[0m\u001b[0mstring\u001b[0m \u001b[0;32mfor\u001b[0m \u001b[0me\u001b[0m \u001b[0;32min\u001b[0m \u001b[0moil_prices\u001b[0m\u001b[0;34m]\u001b[0m\u001b[0;34m)\u001b[0m\u001b[0;34m]\u001b[0m\u001b[0;34m\u001b[0m\u001b[0;34m\u001b[0m\u001b[0m\n\u001b[0m\u001b[1;32m      2\u001b[0m \u001b[0moil_ancestors_prices_18\u001b[0m \u001b[0;34m=\u001b[0m \u001b[0;34m[\u001b[0m\u001b[0mlist\u001b[0m\u001b[0;34m(\u001b[0m\u001b[0mt\u001b[0m\u001b[0;34m.\u001b[0m\u001b[0mancestors\u001b[0m\u001b[0;34m)\u001b[0m \u001b[0;32mfor\u001b[0m \u001b[0mt\u001b[0m \u001b[0;32min\u001b[0m \u001b[0moil_tokens_prices_18\u001b[0m\u001b[0;34m]\u001b[0m\u001b[0;34m\u001b[0m\u001b[0;34m\u001b[0m\u001b[0m\n\u001b[1;32m      3\u001b[0m \u001b[0;34m\u001b[0m\u001b[0m\n\u001b[1;32m      4\u001b[0m \u001b[0;34m\u001b[0m\u001b[0m\n\u001b[1;32m      5\u001b[0m \u001b[0moil_tokens_production_18\u001b[0m\u001b[0;34m=\u001b[0m \u001b[0;34m[\u001b[0m\u001b[0mt\u001b[0m \u001b[0;32mfor\u001b[0m \u001b[0mt\u001b[0m \u001b[0;32min\u001b[0m \u001b[0mpages2018\u001b[0m \u001b[0;32mif\u001b[0m \u001b[0many\u001b[0m\u001b[0;34m(\u001b[0m\u001b[0;34m[\u001b[0m\u001b[0me\u001b[0m \u001b[0;32min\u001b[0m \u001b[0mt\u001b[0m\u001b[0;34m.\u001b[0m\u001b[0mstring\u001b[0m \u001b[0;32mfor\u001b[0m \u001b[0me\u001b[0m \u001b[0;32min\u001b[0m \u001b[0moil_production\u001b[0m\u001b[0;34m]\u001b[0m\u001b[0;34m)\u001b[0m\u001b[0;34m]\u001b[0m\u001b[0;34m\u001b[0m\u001b[0;34m\u001b[0m\u001b[0m\n",
      "\u001b[0;31mNameError\u001b[0m: name 'oil_prices' is not defined"
     ]
    }
   ],
   "source": [
    "oil_tokens_prices_18 = [t for t in pages2018 if any([e in t.string for e in oil_prices])]\n",
    "oil_ancestors_prices_18 = [list(t.ancestors) for t in oil_tokens_prices_18]\n",
    "\n",
    "\n",
    "oil_tokens_production_18= [t for t in pages2018 if any([e in t.string for e in oil_production])]\n",
    "oil_ancestors_production_18 = [list(t.ancestors) for t in oil_tokens_production_18]\n",
    "\n",
    "oil_tokens_trade_18= [t for t in pages2018 if any([e in t.string for e in oil_trade])]\n",
    "oil_ancestors_trade_18 = [list(t.ancestors) for t in oil_tokens_trade_18]\n",
    "\n",
    "oil_tokens_emissions_18= [t for t in pages2018 if any([e in t.string for e in oil_emissions])]\n",
    "oil_ancestors_emissions_18 = [list(t.ancestors) for t in oil_tokens_emissions_18]"
   ]
  },
  {
   "cell_type": "code",
   "execution_count": null,
   "metadata": {},
   "outputs": [],
   "source": []
  }
 ],
 "metadata": {
  "kernelspec": {
   "display_name": "Python 3",
   "language": "python",
   "name": "python3"
  },
  "language_info": {
   "codemirror_mode": {
    "name": "ipython",
    "version": 3
   },
   "file_extension": ".py",
   "mimetype": "text/x-python",
   "name": "python",
   "nbconvert_exporter": "python",
   "pygments_lexer": "ipython3",
   "version": "3.7.3"
  }
 },
 "nbformat": 4,
 "nbformat_minor": 2
}
