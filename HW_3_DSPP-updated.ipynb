{
 "cells": [
  {
   "cell_type": "code",
   "execution_count": 1,
   "metadata": {},
   "outputs": [],
   "source": [
    "import PyPDF2\n",
    "import pandas as pd\n",
    "import requests\n",
    "from bs4 import BeautifulSoup\n",
    "import spacy\n",
    "import urllib\n",
    "import os\n",
    "import re\n",
    "     "
   ]
  },
  {
   "cell_type": "code",
   "execution_count": 15,
   "metadata": {},
   "outputs": [],
   "source": [
    "nlp = spacy.load(\"en_core_web_sm\")"
   ]
  },
  {
   "cell_type": "code",
   "execution_count": 5,
   "metadata": {},
   "outputs": [],
   "source": [
    "url_2019 = \"https://www.eia.gov/outlooks/aeo/pdf/aeo2019.pdf\"\n",
    "url_2018 = \"https://www.eia.gov/outlooks/aeo/pdf/aeo2018.pdf\" \n",
    "response_2019= requests.get(url_2019)\n",
    "response_2018=requests.get(url_2018)\n",
    "with open(os.path.join(r'C:\\Users\\WAQAR\\Desktop\\Grad School Apps and resources\\Python\\Assignment 3', 'aeo2019.pdf'), 'wb') as ofile:\n",
    "            ofile.write(response_2019.content)\n",
    "        \n",
    "        \n",
    "with open(os.path.join(r'C:\\Users\\WAQAR\\Desktop\\Grad School Apps and resources\\Python\\Assignment 3', 'aeo2018.pdf'), 'wb') as ofile:\n",
    "            ofile.write(response_2018.content)\n",
    "        "
   ]
  },
  {
   "cell_type": "code",
   "execution_count": 6,
   "metadata": {},
   "outputs": [],
   "source": [
    "\n",
    "\n",
    "pdf_2019 = PyPDF2.PdfFileReader(r'C:\\Users\\WAQAR\\Desktop\\Grad School Apps and resources\\Python\\Assignment 3\\aeo2019.pdf')\n",
    "pdf_2018 = PyPDF2.PdfFileReader(r'C:\\Users\\WAQAR\\Desktop\\Grad School Apps and resources\\Python\\Assignment 3\\aeo2018.pdf')\n",
    "\n",
    "\n",
    "pages_2019 = []\n",
    "for p in range(pdf_2019.numPages):\n",
    "    page_19 = pdf_2019.getPage(p)\n",
    "    text_19 = page_19.extractText()\n",
    "    pages_2019.append(text_19)\n",
    "\n",
    "pages_2018 = []\n",
    "for p in range(pdf_2018.numPages):\n",
    "    page_18 = pdf_2018.getPage(p)\n",
    "    text_18 = page_18.extractText()\n",
    "    pages_2018.append(text_18)\n",
    "\n"
   ]
  },
  {
   "cell_type": "code",
   "execution_count": 24,
   "metadata": {},
   "outputs": [],
   "source": [
    "'''\n",
    "Here we organize the different pages into their individual entites to prepare for analyzing them\n",
    "\n",
    "'''\n",
    "pages_2019_analyze = pages_2019[5:40]\n",
    "pages_2018_analyze = pages_2018[5:40]\n",
    "\n"
   ]
  },
  {
   "cell_type": "code",
   "execution_count": 63,
   "metadata": {},
   "outputs": [
    {
     "name": "stdout",
     "output_type": "stream",
     "text": [
      "5\n",
      "6\n",
      "7\n",
      "8\n",
      "9\n",
      "10\n",
      "11\n",
      "12\n",
      "13\n",
      "14\n",
      "15\n",
      "16\n",
      "17\n",
      "18\n",
      "19\n",
      "20\n",
      "21\n",
      "22\n",
      "23\n",
      "24\n",
      "25\n",
      "26\n",
      "27\n",
      "28\n",
      "29\n",
      "30\n",
      "31\n",
      "32\n",
      "33\n"
     ]
    }
   ],
   "source": [
    "for i in range(5,33):\n",
    "    \n",
    "page_5_2019= nlp(pages_2019_analyze[4])\n",
    "page_6_2019= nlp(pages_2019_analyze[5])\n",
    "page_7_2019= nlp(pages_2019_analyze[6])\n",
    "page_8_2019= nlp(pages_2019_analyze[7])\n",
    "page_9_2019= nlp(pages_2019_analyze[8])\n",
    "page_10_2019= nlp(pages_2019_analyze[9])\n",
    "page_11_2019= nlp(pages_2019_analyze[10])\n",
    "page_12_2019= nlp(pages_2019_analyze[11])\n",
    "page_13_2019= nlp(pages_2019_analyze[12])\n",
    "page_14_2019= nlp(pages_2019_analyze[13])\n",
    "page_15_2019= nlp(pages_2019_analyze[14])\n",
    "page_16_2019= nlp(pages_2019_analyze[15])\n",
    "page_17_2019= nlp(pages_2019_analyze[16])\n",
    "page_18_2019= nlp(pages_2019_analyze[17])\n",
    "page_19_2019= nlp(pages_2019_analyze[18])\n",
    "page_20_2019= nlp(pages_2019_analyze[19])\n",
    "page_21_2019= nlp(pages_2019_analyze[20])\n",
    "page_22_2019= nlp(pages_2019_analyze[21])\n",
    "page_23_2019= nlp(pages_2019_analyze[22])\n",
    "page_24_2019= nlp(pages_2019_analyze[23])\n",
    "page_25_2019= nlp(pages_2019_analyze[24])\n",
    "page_26_2019= nlp(pages_2019_analyze[25])\n",
    "page_27_2019= nlp(pages_2019_analyze[26])\n",
    "page_28_2019= nlp(pages_2019_analyze[27])\n",
    "page_29_2019= nlp(pages_2019_analyze[28])\n",
    "page_30_2019= nlp(pages_2019_analyze[29])\n",
    "page_31_2019= nlp(pages_2019_analyze[30])\n",
    "page_32_2019= nlp(pages_2019_analyze[31])\n",
    "page_33_2019= nlp(pages_2019_analyze[32])\n",
    "\n",
    "pages2019=[]\n",
    "for i in range(5,34):\n",
    "    print(i)\n",
    "    pages2019 += nlp(pages_2019_analyze[i-1])\n",
    "    "
   ]
  },
  {
   "cell_type": "code",
   "execution_count": 156,
   "metadata": {},
   "outputs": [
    {
     "name": "stdout",
     "output_type": "stream",
     "text": [
      "9767\n",
      "8442\n"
     ]
    }
   ],
   "source": [
    "print(len(pages2019))\n",
    "print(len(pages2018))\n"
   ]
  },
  {
   "cell_type": "code",
   "execution_count": 202,
   "metadata": {},
   "outputs": [
    {
     "data": {
      "text/plain": [
       "'\\nBroke down the pages into individual pages for both 2019 and 2018.\\n'"
      ]
     },
     "execution_count": 202,
     "metadata": {},
     "output_type": "execute_result"
    }
   ],
   "source": [
    "page_5_2018= nlp(pages_2018_analyze[4])\n",
    "page_6_2018= nlp(pages_2018_analyze[5])\n",
    "page_7_2018= nlp(pages_2018_analyze[6])\n",
    "page_8_2018= nlp(pages_2018_analyze[7])\n",
    "page_9_2018= nlp(pages_2018_analyze[8])\n",
    "page_10_2018= nlp(pages_2018_analyze[9])\n",
    "page_11_2018= nlp(pages_2018_analyze[10])\n",
    "page_12_2018= nlp(pages_2018_analyze[11])\n",
    "page_13_2018= nlp(pages_2018_analyze[12])\n",
    "page_14_2018= nlp(pages_2018_analyze[13])\n",
    "page_15_2018= nlp(pages_2018_analyze[14])\n",
    "page_16_2018= nlp(pages_2018_analyze[15])\n",
    "page_17_2018= nlp(pages_2018_analyze[16])\n",
    "page_18_2018= nlp(pages_2018_analyze[17])\n",
    "page_19_2018= nlp(pages_2018_analyze[18])\n",
    "page_20_2018= nlp(pages_2018_analyze[19])\n",
    "page_21_2018= nlp(pages_2018_analyze[20])\n",
    "page_22_2018= nlp(pages_2018_analyze[21])\n",
    "page_23_2018= nlp(pages_2018_analyze[22])\n",
    "page_24_2018= nlp(pages_2018_analyze[23])\n",
    "page_25_2018= nlp(pages_2018_analyze[24])\n",
    "page_26_2018= nlp(pages_2018_analyze[25])\n",
    "page_27_2018= nlp(pages_2018_analyze[26])\n",
    "page_28_2018= nlp(pages_2018_analyze[27])\n",
    "page_29_2018= nlp(pages_2018_analyze[28])\n",
    "page_30_2018= nlp(pages_2018_analyze[29])\n",
    "page_31_2018= nlp(pages_2018_analyze[30])\n",
    "page_32_2018= nlp(pages_2018_analyze[31])\n",
    "page_33_2018= nlp(pages_2018_analyze[32])\n",
    "'''\n",
    "Broke down the pages into individual pages for both 2019 and 2018.\n",
    "'''\n"
   ]
  },
  {
   "cell_type": "code",
   "execution_count": 201,
   "metadata": {},
   "outputs": [],
   "source": [
    "pages2018=[]\n",
    "for i in range(5,34):\n",
    "    pages2018 += nlp(pages_2018_analyze[i-1])"
   ]
  },
  {
   "cell_type": "code",
   "execution_count": 71,
   "metadata": {},
   "outputs": [
    {
     "name": "stdout",
     "output_type": "stream",
     "text": [
      "[coal, coal, coal, coal, coal]\n",
      "[]\n"
     ]
    }
   ],
   "source": [
    "coal_mentions_2019 = [t for t in pages2019 if t.text == 'coal']\n",
    "print(coal_mentions_2019)\n",
    "\n",
    "Coal_mentions_2019= [t for t in pages2019 if t.text == 'Coal']\n",
    "print(Coal_mentions_2019)\n",
    "\n"
   ]
  },
  {
   "cell_type": "code",
   "execution_count": 67,
   "metadata": {},
   "outputs": [
    {
     "data": {
      "text/plain": [
       "[solar,\n",
       " solar,\n",
       " solar,\n",
       " solar,\n",
       " solar,\n",
       " solar,\n",
       " solar,\n",
       " solar,\n",
       " solar,\n",
       " solar,\n",
       " solar,\n",
       " solar,\n",
       " solar,\n",
       " solar,\n",
       " solar,\n",
       " solar,\n",
       " solar]"
      ]
     },
     "execution_count": 67,
     "metadata": {},
     "output_type": "execute_result"
    }
   ],
   "source": [
    "solar_mentions_2019 = [t for t in pages2019 if t.text == 'solar']\n",
    "solar_mentions_2019\n"
   ]
  },
  {
   "cell_type": "code",
   "execution_count": 131,
   "metadata": {},
   "outputs": [],
   "source": [
    "'''\n",
    "This part creates tokens and ancestors depending on attribute we are looking for\n",
    "'''\n",
    "\n",
    "oil_prices = ['oil', 'Oil','price', 'Price','prices']\n",
    "oil_production= ['oil', 'Oil','production', 'Production']\n",
    "oil_trade= ['oil', 'Oil','import', 'Import', 'export', 'Export']\n",
    "oil_emissions= ['oil', 'Oil','emission', 'Emission', 'emissions', 'Emissions']\n",
    "\n",
    "\n",
    "oil_tokens_prices_19 = [t for t in pages2019 if any([e in t.string for e in oil_prices])]\n",
    "oil_ancestors_prices_19 = [list(t.ancestors) for t in oil_tokens_prices_19]\n",
    "\n",
    "\n",
    "oil_tokens_production_19= [t for t in pages2019 if any([e in t.string for e in oil_production])]\n",
    "oil_ancestors_production_19 = [list(t.ancestors) for t in oil_tokens_production_19]\n",
    "\n",
    "oil_tokens_trade_19= [t for t in pages2019 if any([e in t.string for e in oil_trade])]\n",
    "oil_ancestors_trade_19 = [list(t.ancestors) for t in oil_tokens_trade_19]\n",
    "\n",
    "oil_tokens_emissions_19= [t for t in pages2019 if any([e in t.string for e in oil_emissions])]\n",
    "oil_ancestors_emissions_19 = [list(t.ancestors) for t in oil_tokens_emissions_19]\n"
   ]
  },
  {
   "cell_type": "code",
   "execution_count": 132,
   "metadata": {},
   "outputs": [
    {
     "data": {
      "text/plain": [
       "{'up': 28, 'down': 4, 'unchanged': 20}"
      ]
     },
     "execution_count": 132,
     "metadata": {},
     "output_type": "execute_result"
    }
   ],
   "source": [
    "'''\n",
    "counters have been put seperately since we saw that sometimes in our code, if we call the code many times, it started to add from previous times\n",
    "'''\n",
    "up = ['raise', 'increase', 'up', 'increases','upgrades', 'growth', 'Growth', 'boost','High','high' 'rise', 'grows', 'increasing', 'rises']\n",
    "down = ['lower', 'decrease', 'down', 'losses', 'drops', 'collapse', 'Lower', 'Low', 'low']\n",
    "unchanged = ['unchanged', 'same','remained', 'continue', 'remain', 'continues','remains']\n",
    "\n",
    "counters_oil_price_19 = {'up': 0, 'down': 0, 'unchanged': 0}\n",
    "counters_oil_production_19 = {'up': 0, 'down': 0, 'unchanged': 0}\n",
    "counters_oil_trade_19 = {'up': 0, 'down': 0, 'unchanged': 0}\n",
    "counters_oil_emissions_19 = {'up': 0, 'down': 0, 'unchanged': 0}\n",
    "\n"
   ]
  },
  {
   "cell_type": "code",
   "execution_count": 296,
   "metadata": {},
   "outputs": [],
   "source": [
    "for word in oil_ancestors_prices_19:\n",
    "    for ancestor in word:\n",
    "        if ancestor.text in up:\n",
    "            counters_oil_price_19['up'] += 1\n",
    "        elif ancestor.text in down:\n",
    "            counters_oil_price_19['down'] += 1\n",
    "        elif ancestor.text in unchanged:\n",
    "            counters_oil_price_19['unchanged'] += 1\n",
    "\n",
    "\n",
    "def scoring(x):\n",
    "    score_1 = x['up']- x['down']\n",
    "    if score_1 > 0:\n",
    "        print('Attribute is increasing')\n",
    "    elif score_1 < 0:\n",
    "        print('Attribute is decreasing')\n",
    "    elif score_1 == 0:\n",
    "        print('Attribute is unchanged')            "
   ]
  },
  {
   "cell_type": "code",
   "execution_count": 295,
   "metadata": {},
   "outputs": [],
   "source": [
    "for word in oil_ancestors_production_19:\n",
    "    for ancestor in word:\n",
    "        if ancestor.text in up:\n",
    "            counters_oil_production_19['up'] += 1\n",
    "        elif ancestor.text in down:\n",
    "            counters_oil_production_19['down'] += 1\n",
    "        elif ancestor.text in unchanged:\n",
    "            counters_oil_production_19['unchanged'] += 1\n"
   ]
  },
  {
   "cell_type": "code",
   "execution_count": 217,
   "metadata": {},
   "outputs": [
    {
     "name": "stdout",
     "output_type": "stream",
     "text": [
      "Attribute is increasing\n"
     ]
    }
   ],
   "source": [
    "for word in oil_ancestors_trade_19:\n",
    "    for ancestor in word:\n",
    "        if ancestor.text in up:\n",
    "            counters_oil_trade_19['up'] += 1\n",
    "        elif ancestor.text in down:\n",
    "            counters_oil_trade_19['down'] += 1\n",
    "        elif ancestor.text in unchanged:\n",
    "            counters_oil_trade_19['unchanged'] += 1"
   ]
  },
  {
   "cell_type": "code",
   "execution_count": 294,
   "metadata": {},
   "outputs": [],
   "source": [
    "for word in oil_ancestors_emissions_19:\n",
    "    for ancestor in word:\n",
    "        if ancestor.text in up:\n",
    "            counters_oil_emissions_19['up'] += 1\n",
    "        elif ancestor.text in down:\n",
    "            counters_oil_emissions_19['down'] += 1\n",
    "        elif ancestor.text in unchanged:\n",
    "            counters_oil_emissions_19['unchanged'] += 1"
   ]
  },
  {
   "cell_type": "code",
   "execution_count": 293,
   "metadata": {},
   "outputs": [],
   "source": [
    "'''\n",
    "Question to ask is if the children matter or not? An analysis is that one can see what is the \"net\" effect between ancestors and children counts\n",
    "'''\n",
    "count_oil = {'up': 0, 'down': 0, 'unchanged': 0}\n",
    "for word in oil_children:\n",
    "    for ancestor in word:\n",
    "        if ancestor.text in up:\n",
    "            count_oil['up'] += 1\n",
    "        elif ancestor.text in down:\n",
    "            count_oil['down'] += 1\n",
    "        elif ancestor.text in unchanged:\n",
    "            count_oil['unchanged'] += 1\n"
   ]
  },
  {
   "cell_type": "code",
   "execution_count": 297,
   "metadata": {},
   "outputs": [
    {
     "name": "stdout",
     "output_type": "stream",
     "text": [
      "Attribute is increasing\n",
      "Attribute is increasing\n",
      "Attribute is increasing\n",
      "Attribute is increasing\n"
     ]
    }
   ],
   "source": [
    "oil_price_19      = scoring(counters_oil_price_19)\n",
    "oil_production_19 = scoring(counters_oil_production_19)\n",
    "oil_trade_19      = scoring(counters_oil_trade_19)\n",
    "oil_emissions_19  = scoring(counters_oil_emissions_19)\n"
   ]
  },
  {
   "cell_type": "code",
   "execution_count": 140,
   "metadata": {},
   "outputs": [],
   "source": [
    "'''\n",
    "Same process as for oil as above only now wherever the word oil was coming up now there is coal.\n",
    "\n",
    "'''\n",
    "#Step 1\n",
    "\n",
    "coal_prices = ['coal', 'Coal','price', 'Price','prices']\n",
    "coal_production= ['coal', 'Coal','production', 'Production']\n",
    "coal_trade= ['coal', 'Coal','import', 'Import', 'export', 'Export']\n",
    "coal_emissions= ['coal', 'Coal','emission', 'Emission', 'emissions', 'Emissions']\n",
    "\n",
    "\n",
    "coal_tokens_prices_19 = [t for t in pages2019 if any([e in t.string for e in coal_prices])]\n",
    "coal_ancestors_prices_19 = [list(t.ancestors) for t in coal_tokens_prices_19]\n",
    "\n",
    "\n",
    "coal_tokens_production_19= [t for t in pages2019 if any([e in t.string for e in coal_production])]\n",
    "coal_ancestors_production_19 = [list(t.ancestors) for t in coal_tokens_production_19]\n",
    "\n",
    "coal_tokens_trade_19= [t for t in pages2019 if any([e in t.string for e in coal_trade])]\n",
    "coal_ancestors_trade_19 = [list(t.ancestors) for t in coal_tokens_trade_19]\n",
    "\n",
    "coal_tokens_emissions_19= [t for t in pages2019 if any([e in t.string for e in coal_emissions])]\n",
    "coal_ancestors_emissions_19 = [list(t.ancestors) for t in coal_tokens_emissions_19]\n"
   ]
  },
  {
   "cell_type": "code",
   "execution_count": 141,
   "metadata": {},
   "outputs": [],
   "source": [
    "#Step 2\n",
    "counters_coal_price_19 = {'up': 0, 'down': 0, 'unchanged': 0}\n",
    "counters_coal_production_19 = {'up': 0, 'down': 0, 'unchanged': 0}\n",
    "counters_coal_trade_19 = {'up': 0, 'down': 0, 'unchanged': 0}\n",
    "counters_coal_emissions_19 = {'up': 0, 'down': 0, 'unchanged': 0}"
   ]
  },
  {
   "cell_type": "code",
   "execution_count": 292,
   "metadata": {},
   "outputs": [],
   "source": [
    "#Step 3.1\n",
    "for word in coal_ancestors_prices_19:\n",
    "    for ancestor in word:\n",
    "        if ancestor.text in up:\n",
    "            counters_coal_price_19['up'] += 1\n",
    "        elif ancestor.text in down:\n",
    "            counters_coal_price_19['down'] += 1\n",
    "        elif ancestor.text in unchanged:\n",
    "            counters_coal_price_19['unchanged'] += 1"
   ]
  },
  {
   "cell_type": "code",
   "execution_count": 291,
   "metadata": {},
   "outputs": [],
   "source": [
    "#step 3.2\n",
    "for word in coal_ancestors_production_19:\n",
    "    for ancestor in word:\n",
    "        if ancestor.text in up:\n",
    "            counters_coal_production_19['up'] += 1\n",
    "        elif ancestor.text in down:\n",
    "            counters_coal_production_19['down'] += 1\n",
    "        elif ancestor.text in unchanged:\n",
    "            counters_coal_production_19['unchanged'] += 1"
   ]
  },
  {
   "cell_type": "code",
   "execution_count": 290,
   "metadata": {},
   "outputs": [],
   "source": [
    "#Step 3.3\n",
    "for word in coal_ancestors_trade_19:\n",
    "    for ancestor in word:\n",
    "        if ancestor.text in up:\n",
    "            counters_coal_trade_19['up'] += 1\n",
    "        elif ancestor.text in down:\n",
    "            counters_coal_trade_19['down'] += 1\n",
    "        elif ancestor.text in unchanged:\n",
    "            counters_coal_trade_19['unchanged'] += 1\n",
    "\n"
   ]
  },
  {
   "cell_type": "code",
   "execution_count": 289,
   "metadata": {},
   "outputs": [],
   "source": [
    "#Step 3.4\n",
    "for word in coal_ancestors_emissions_19:\n",
    "    for ancestor in word:\n",
    "        if ancestor.text in up:\n",
    "            counters_coal_emissions_19['up'] += 1\n",
    "        elif ancestor.text in down:\n",
    "            counters_coal_emissions_19['down'] += 1\n",
    "        elif ancestor.text in unchanged:\n",
    "            counters_coal_emissions_19['unchanged'] += 1\n",
    "                  \n"
   ]
  },
  {
   "cell_type": "code",
   "execution_count": 288,
   "metadata": {},
   "outputs": [
    {
     "name": "stdout",
     "output_type": "stream",
     "text": [
      "Attribute is increasing\n",
      "Attribute is increasing\n",
      "Attribute is increasing\n",
      "Attribute is decreasing\n"
     ]
    }
   ],
   "source": [
    "coal_price_19      = scoring(counters_coal_price_19)\n",
    "coal_production_19 = scoring(counters_coal_production_19)\n",
    "coal_trade_19      = scoring(counters_coal_trade_19)\n",
    "coal_emissions_19  = scoring(counters_coal_emissions_19)\n"
   ]
  },
  {
   "cell_type": "code",
   "execution_count": 149,
   "metadata": {},
   "outputs": [],
   "source": [
    "'''\n",
    "Repeating all steps as above for coal and oil for solar. \n",
    "'''\n",
    "\n",
    "solar_prices = ['solar', 'Solar','price', 'Price','prices']\n",
    "solar_production= ['solar', 'Solar','production', 'Production']\n",
    "solar_trade= ['solar', 'Solar','import', 'Import', 'export', 'Export']\n",
    "solar_emissions= ['solar', 'Solar','emission', 'Emission', 'emissions', 'Emissions']\n",
    "\n",
    "\n",
    "solar_tokens_prices_19 = [t for t in pages2019 if any([e in t.string for e in solar_prices])]\n",
    "solar_ancestors_prices_19 = [list(t.ancestors) for t in solar_tokens_prices_19]\n",
    "\n",
    "\n",
    "solar_tokens_production_19= [t for t in pages2019 if any([e in t.string for e in solar_production])]\n",
    "solar_ancestors_production_19 = [list(t.ancestors) for t in solar_tokens_production_19]\n",
    "\n",
    "solar_tokens_trade_19= [t for t in pages2019 if any([e in t.string for e in solar_trade])]\n",
    "solar_ancestors_trade_19 = [list(t.ancestors) for t in solar_tokens_trade_19]\n",
    "\n",
    "solar_tokens_emissions_19= [t for t in pages2019 if any([e in t.string for e in solar_emissions])]\n",
    "solar_ancestors_emissions_19 = [list(t.ancestors) for t in solar_tokens_emissions_19]\n"
   ]
  },
  {
   "cell_type": "code",
   "execution_count": 150,
   "metadata": {},
   "outputs": [],
   "source": [
    "counters_solar_price_19 = {'up': 0, 'down': 0, 'unchanged': 0}\n",
    "counters_solar_production_19 = {'up': 0, 'down': 0, 'unchanged': 0}\n",
    "counters_solar_trade_19 = {'up': 0, 'down': 0, 'unchanged': 0}\n",
    "counters_solar_emissions_19 = {'up': 0, 'down': 0, 'unchanged': 0}"
   ]
  },
  {
   "cell_type": "code",
   "execution_count": 286,
   "metadata": {},
   "outputs": [],
   "source": [
    "for word in solar_ancestors_prices_19:\n",
    "    for ancestor in word:\n",
    "        if ancestor.text in up:\n",
    "            counters_solar_price_19['up'] += 1\n",
    "        elif ancestor.text in down:\n",
    "            counters_solar_price_19['down'] += 1\n",
    "        elif ancestor.text in unchanged:\n",
    "            counters_solar_price_19['unchanged'] += 1\n",
    " "
   ]
  },
  {
   "cell_type": "code",
   "execution_count": 285,
   "metadata": {},
   "outputs": [],
   "source": [
    "for word in coal_ancestors_production_19:\n",
    "    for ancestor in word:\n",
    "        if ancestor.text in up:\n",
    "            counters_solar_production_19['up'] += 1\n",
    "        elif ancestor.text in down:\n",
    "            counters_solar_production_19['down'] += 1\n",
    "        elif ancestor.text in unchanged:\n",
    "            counters_solar_production_19['unchanged'] += 1\n",
    "\n"
   ]
  },
  {
   "cell_type": "code",
   "execution_count": 284,
   "metadata": {},
   "outputs": [],
   "source": [
    "for word in solar_ancestors_trade_19:\n",
    "    for ancestor in word:\n",
    "        if ancestor.text in up:\n",
    "            counters_solar_trade_19['up'] += 1\n",
    "        elif ancestor.text in down:\n",
    "            counters_solar_trade_19['down'] += 1\n",
    "        elif ancestor.text in unchanged:\n",
    "            counters_solar_trade_19['unchanged'] += 1"
   ]
  },
  {
   "cell_type": "code",
   "execution_count": 283,
   "metadata": {},
   "outputs": [],
   "source": [
    "for word in solar_ancestors_emissions_19:\n",
    "    for ancestor in word:\n",
    "        if ancestor.text in up:\n",
    "            counters_solar_emissions_19['up'] += 1\n",
    "        elif ancestor.text in down:\n",
    "            counters_solar_emissions_19['down'] += 1\n",
    "        elif ancestor.text in unchanged:\n",
    "            counters_solar_emissions_19['unchanged'] += 1"
   ]
  },
  {
   "cell_type": "code",
   "execution_count": 287,
   "metadata": {},
   "outputs": [
    {
     "name": "stdout",
     "output_type": "stream",
     "text": [
      "Attribute is increasing\n",
      "Attribute is increasing\n",
      "Attribute is increasing\n",
      "Attribute is increasing\n"
     ]
    }
   ],
   "source": [
    "solar_price_19      = scoring(counters_solar_price_19)\n",
    "solar_production_19 = scoring(counters_solar_production_19)\n",
    "solar_trade_19      = scoring(counters_solar_trade_19)\n",
    "solar_emissions_19  = scoring(counters_solar_emissions_19)\n"
   ]
  },
  {
   "cell_type": "code",
   "execution_count": 160,
   "metadata": {},
   "outputs": [],
   "source": [
    "'''\n",
    "Repeating steps for wind\n",
    "\n",
    "'''\n",
    "\n",
    "wind_prices = ['wind', 'Wind','price', 'Price','prices']\n",
    "wind_production= ['wind', 'Wind','production', 'Production']\n",
    "wind_trade= ['wind', 'Wind','import', 'Import', 'export', 'Export']\n",
    "wind_emissions= ['wind', 'Wind','emission', 'Emission', 'emissions', 'Emissions']\n",
    "\n",
    "\n",
    "wind_tokens_prices_19 = [t for t in pages2019 if any([e in t.string for e in wind_prices])]\n",
    "wind_ancestors_prices_19 = [list(t.ancestors) for t in wind_tokens_prices_19]\n",
    "\n",
    "\n",
    "wind_tokens_production_19= [t for t in pages2019 if any([e in t.string for e in wind_production])]\n",
    "wind_ancestors_production_19 = [list(t.ancestors) for t in wind_tokens_production_19]\n",
    "\n",
    "wind_tokens_trade_19= [t for t in pages2019 if any([e in t.string for e in wind_trade])]\n",
    "wind_ancestors_trade_19 = [list(t.ancestors) for t in wind_tokens_trade_19]\n",
    "\n",
    "wind_tokens_emissions_19= [t for t in pages2019 if any([e in t.string for e in wind_emissions])]\n",
    "wind_ancestors_emissions_19 = [list(t.ancestors) for t in wind_tokens_emissions_19]\n"
   ]
  },
  {
   "cell_type": "code",
   "execution_count": 162,
   "metadata": {},
   "outputs": [],
   "source": [
    "counters_wind_price_19 = {'up': 0, 'down': 0, 'unchanged': 0}\n",
    "counters_wind_production_19 = {'up': 0, 'down': 0, 'unchanged': 0}\n",
    "counters_wind_trade_19 = {'up': 0, 'down': 0, 'unchanged': 0}\n",
    "counters_wind_emissions_19 = {'up': 0, 'down': 0, 'unchanged': 0}"
   ]
  },
  {
   "cell_type": "code",
   "execution_count": 163,
   "metadata": {},
   "outputs": [],
   "source": [
    "'''\n",
    "organized all the functions to call for wind over different attributes here.\n",
    "'''\n",
    "\n",
    "for word in wind_ancestors_prices_19:\n",
    "    for ancestor in word:\n",
    "        if ancestor.text in up:\n",
    "            counters_wind_price_19['up'] += 1\n",
    "        elif ancestor.text in down:\n",
    "            counters_wind_price_19['down'] += 1\n",
    "        elif ancestor.text in unchanged:\n",
    "            counters_wind_price_19['unchanged'] += 1\n",
    "                   \n",
    "\n",
    "for word in wind_ancestors_production_19:\n",
    "    for ancestor in word:\n",
    "        if ancestor.text in up:\n",
    "            counters_wind_production_19['up'] += 1\n",
    "        elif ancestor.text in down:\n",
    "            counters_wind_production_19['down'] += 1\n",
    "        elif ancestor.text in unchanged:\n",
    "            counters_wind_production_19['unchanged'] += 1\n",
    "\n",
    "for word in wind_ancestors_trade_19:\n",
    "    for ancestor in word:\n",
    "        if ancestor.text in up:\n",
    "            counters_wind_trade_19['up'] += 1\n",
    "        elif ancestor.text in down:\n",
    "            counters_wind_trade_19['down'] += 1\n",
    "        elif ancestor.text in unchanged:\n",
    "            counters_wind_trade_19['unchanged'] += 1\n",
    "\n",
    "for word in wind_ancestors_emissions_19:\n",
    "    for ancestor in word:\n",
    "        if ancestor.text in up:\n",
    "            counters_wind_emissions_19['up'] += 1\n",
    "        elif ancestor.text in down:\n",
    "            counters_wind_emissions_19['down'] += 1\n",
    "        elif ancestor.text in unchanged:\n",
    "            counters_wind_emissions_19['unchanged'] += 1"
   ]
  },
  {
   "cell_type": "code",
   "execution_count": 282,
   "metadata": {},
   "outputs": [
    {
     "name": "stdout",
     "output_type": "stream",
     "text": [
      "Attribute is increasing\n",
      "Attribute is increasing\n",
      "Attribute is increasing\n",
      "Attribute is increasing\n"
     ]
    }
   ],
   "source": [
    "wind_price_19      = scoring(counters_wind_price_19)\n",
    "wind_production_19 = scoring(counters_wind_production_19)\n",
    "wind_trade_19      = scoring(counters_wind_trade_19)\n",
    "wind_emissions_19  = scoring(counters_wind_emissions_19)\n"
   ]
  },
  {
   "cell_type": "code",
   "execution_count": 172,
   "metadata": {},
   "outputs": [],
   "source": [
    "'''\n",
    "repeating process for nuclear power in 2019\n",
    "'''\n",
    "\n",
    "\n",
    "nuclear_prices = ['nuclear', 'Nuclear','price', 'Price','prices']\n",
    "nuclear_production= ['nuclear', 'Nuclear','production', 'Production']\n",
    "nuclear_trade= ['nuclear', 'Nuclear','import', 'Import', 'export', 'Export']\n",
    "nuclear_emissions= ['nuclear', 'Nuclear','emission', 'Emission', 'emissions', 'Emissions']\n",
    "\n",
    "\n",
    "nuclear_tokens_prices_19 = [t for t in pages2019 if any([e in t.string for e in nuclear_prices])]\n",
    "nuclear_ancestors_prices_19 = [list(t.ancestors) for t in nuclear_tokens_prices_19]\n",
    "\n",
    "\n",
    "nuclear_tokens_production_19= [t for t in pages2019 if any([e in t.string for e in nuclear_production])]\n",
    "nuclear_ancestors_production_19 = [list(t.ancestors) for t in nuclear_tokens_production_19]\n",
    "\n",
    "nuclear_tokens_trade_19= [t for t in pages2019 if any([e in t.string for e in nuclear_trade])]\n",
    "nuclear_ancestors_trade_19 = [list(t.ancestors) for t in nuclear_tokens_trade_19]\n",
    "\n",
    "nuclear_tokens_emissions_19= [t for t in pages2019 if any([e in t.string for e in nuclear_emissions])]\n",
    "nuclear_ancestors_emissions_19 = [list(t.ancestors) for t in nuclear_tokens_emissions_19]\n"
   ]
  },
  {
   "cell_type": "code",
   "execution_count": 173,
   "metadata": {},
   "outputs": [],
   "source": [
    "counters_nuclear_price_19 = {'up': 0, 'down': 0, 'unchanged': 0}\n",
    "counters_nuclear_production_19 = {'up': 0, 'down': 0, 'unchanged': 0}\n",
    "counters_nuclear_trade_19 = {'up': 0, 'down': 0, 'unchanged': 0}\n",
    "counters_nuclear_emissions_19 = {'up': 0, 'down': 0, 'unchanged': 0}"
   ]
  },
  {
   "cell_type": "code",
   "execution_count": 174,
   "metadata": {},
   "outputs": [],
   "source": [
    "'''\n",
    "organized all the functions to call for nuclear over different attributes here.\n",
    "'''\n",
    "\n",
    "for word in nuclear_ancestors_prices_19:\n",
    "    for ancestor in word:\n",
    "        if ancestor.text in up:\n",
    "            counters_nuclear_price_19['up'] += 1\n",
    "        elif ancestor.text in down:\n",
    "            counters_nuclear_price_19['down'] += 1\n",
    "        elif ancestor.text in unchanged:\n",
    "            counters_nuclear_price_19['unchanged'] += 1\n",
    "                   \n",
    "\n",
    "for word in wind_ancestors_production_19:\n",
    "    for ancestor in word:\n",
    "        if ancestor.text in up:\n",
    "            counters_nuclear_production_19['up'] += 1\n",
    "        elif ancestor.text in down:\n",
    "            counters_nuclear_production_19['down'] += 1\n",
    "        elif ancestor.text in unchanged:\n",
    "            counters_nuclear_production_19['unchanged'] += 1\n",
    "\n",
    "for word in nuclear_ancestors_trade_19:\n",
    "    for ancestor in word:\n",
    "        if ancestor.text in up:\n",
    "            counters_nuclear_trade_19['up'] += 1\n",
    "        elif ancestor.text in down:\n",
    "            counters_nuclear_trade_19['down'] += 1\n",
    "        elif ancestor.text in unchanged:\n",
    "            counters_nuclear_trade_19['unchanged'] += 1\n",
    "\n",
    "for word in nuclear_ancestors_emissions_19:\n",
    "    for ancestor in word:\n",
    "        if ancestor.text in up:\n",
    "            counters_nuclear_emissions_19['up'] += 1\n",
    "        elif ancestor.text in down:\n",
    "            counters_nuclear_emissions_19['down'] += 1\n",
    "        elif ancestor.text in unchanged:\n",
    "            counters_nuclear_emissions_19['unchanged'] += 1"
   ]
  },
  {
   "cell_type": "code",
   "execution_count": 281,
   "metadata": {},
   "outputs": [
    {
     "name": "stdout",
     "output_type": "stream",
     "text": [
      "Attribute is increasing\n",
      "Attribute is increasing\n",
      "Attribute is increasing\n",
      "Attribute is decreasing\n"
     ]
    }
   ],
   "source": [
    "nuclear_price_19      = scoring(counters_nuclear_price_19)\n",
    "nuclear_production_19 = scoring(counters_nuclear_production_19)\n",
    "nuclear_trade_19      = scoring(counters_nuclear_trade_19)\n",
    "nuclear_emissions_19  = scoring(counters_nuclear_emissions_19)\n"
   ]
  },
  {
   "cell_type": "code",
   "execution_count": 190,
   "metadata": {},
   "outputs": [
    {
     "data": {
      "text/html": [
       "<div>\n",
       "<style scoped>\n",
       "    .dataframe tbody tr th:only-of-type {\n",
       "        vertical-align: middle;\n",
       "    }\n",
       "\n",
       "    .dataframe tbody tr th {\n",
       "        vertical-align: top;\n",
       "    }\n",
       "\n",
       "    .dataframe thead th {\n",
       "        text-align: right;\n",
       "    }\n",
       "</style>\n",
       "<table border=\"1\" class=\"dataframe\">\n",
       "  <thead>\n",
       "    <tr style=\"text-align: right;\">\n",
       "      <th></th>\n",
       "      <th>Energy Type</th>\n",
       "      <th>Price</th>\n",
       "      <th>Emissions</th>\n",
       "      <th>Production</th>\n",
       "      <th>Import/Export</th>\n",
       "    </tr>\n",
       "  </thead>\n",
       "  <tbody>\n",
       "    <tr>\n",
       "      <th>0</th>\n",
       "      <td>oil</td>\n",
       "      <td>increase</td>\n",
       "      <td>increase</td>\n",
       "      <td>increase</td>\n",
       "      <td>increase</td>\n",
       "    </tr>\n",
       "    <tr>\n",
       "      <th>1</th>\n",
       "      <td>nuclear</td>\n",
       "      <td>increase</td>\n",
       "      <td>increase</td>\n",
       "      <td>increase</td>\n",
       "      <td>increase</td>\n",
       "    </tr>\n",
       "    <tr>\n",
       "      <th>2</th>\n",
       "      <td>wind</td>\n",
       "      <td>increase</td>\n",
       "      <td>increase</td>\n",
       "      <td>increase</td>\n",
       "      <td>increase</td>\n",
       "    </tr>\n",
       "    <tr>\n",
       "      <th>3</th>\n",
       "      <td>coal</td>\n",
       "      <td>increase</td>\n",
       "      <td>increase</td>\n",
       "      <td>increase</td>\n",
       "      <td>increase</td>\n",
       "    </tr>\n",
       "    <tr>\n",
       "      <th>4</th>\n",
       "      <td>solar</td>\n",
       "      <td>increase</td>\n",
       "      <td>increase</td>\n",
       "      <td>increase</td>\n",
       "      <td>increase</td>\n",
       "    </tr>\n",
       "  </tbody>\n",
       "</table>\n",
       "</div>"
      ],
      "text/plain": [
       "  Energy Type     Price Emissions Production Import/Export\n",
       "0         oil  increase  increase   increase      increase\n",
       "1     nuclear  increase  increase   increase      increase\n",
       "2        wind  increase  increase   increase      increase\n",
       "3        coal  increase  increase   increase      increase\n",
       "4       solar  increase  increase   increase      increase"
      ]
     },
     "execution_count": 190,
     "metadata": {},
     "output_type": "execute_result"
    }
   ],
   "source": [
    "data = {'Energy Type':['oil', 'nuclear', 'wind', 'coal', 'solar'],\n",
    "        'Price':['increase','increase','increase','increase','increase'],\n",
    "       'Emissions':['increase','increase','increase','increase','increase'],\n",
    "       'Production':['increase','increase','increase','increase','increase'],\n",
    "       'Import/Export':['increase','increase','increase','increase','increase']}\n",
    " \n",
    "data_2019 = pd.DataFrame(data)\n",
    "data_2019"
   ]
  },
  {
   "cell_type": "code",
   "execution_count": null,
   "metadata": {},
   "outputs": [],
   "source": [
    "'''\n",
    "The analysis for 2018 data begins here\n",
    "\n",
    "'''"
   ]
  },
  {
   "cell_type": "code",
   "execution_count": 247,
   "metadata": {},
   "outputs": [],
   "source": [
    "'''\n",
    "Data Analysis for Oil enerrgy in 2018. It uses the same kind of analysis used for 2019 data.\n",
    "\n",
    "'''\n",
    "\n",
    "oil_tokens_prices_18 = [t for t in pages2018 if any([e in t.string for e in oil_prices])]\n",
    "oil_ancestors_prices_18 = [list(t.ancestors) for t in oil_tokens_prices_18]\n",
    "\n",
    "\n",
    "oil_tokens_production_18 = [t for t in pages2018 if any([e in t.string for e in oil_production])]\n",
    "oil_ancestors_production_18 = [list(t.ancestors) for t in oil_tokens_production_18]\n",
    "\n",
    "oil_tokens_trade_18= [t for t in pages2018 if any([e in t.string for e in oil_trade])]\n",
    "oil_ancestors_trade_18 = [list(t.ancestors) for t in oil_tokens_trade_18]\n",
    "\n",
    "oil_tokens_emissions_18 = [t for t in pages2018 if any([e in t.string for e in oil_emissions])]\n",
    "oil_ancestors_emissions_18 = [list(t.ancestors) for t in oil_tokens_emissions_18]\n",
    "\n"
   ]
  },
  {
   "cell_type": "code",
   "execution_count": 248,
   "metadata": {},
   "outputs": [],
   "source": [
    "counters_oil_price_18 = {'up': 0, 'down': 0, 'unchanged': 0}\n",
    "counters_oil_production_18 = {'up': 0, 'down': 0, 'unchanged': 0}\n",
    "counters_oil_trade_18 = {'up': 0, 'down': 0, 'unchanged': 0}\n",
    "counters_oil_emissions_18 = {'up': 0, 'down': 0, 'unchanged': 0}\n"
   ]
  },
  {
   "cell_type": "code",
   "execution_count": 255,
   "metadata": {},
   "outputs": [],
   "source": [
    "for word in oil_ancestors_prices_18:\n",
    "    for ancestor in word:\n",
    "        if ancestor.text in up:\n",
    "            counters_oil_price_18['up'] += 1\n",
    "        elif ancestor.text in down:\n",
    "            counters_oil_price_18['down'] += 1\n",
    "        elif ancestor.text in unchanged:\n",
    "            counters_oil_price_18['unchanged'] += 1\n",
    "                   \n",
    "\n",
    "for word in oil_ancestors_production_18:\n",
    "    for ancestor in word:\n",
    "        if ancestor.text in up:\n",
    "            counters_oil_production_18['up'] += 1\n",
    "        elif ancestor.text in down:\n",
    "            counters_oil_production_18['down'] += 1\n",
    "        elif ancestor.text in unchanged:\n",
    "            counters_oil_production_18['unchanged'] += 1\n",
    "\n",
    "for word in oil_ancestors_trade_18:\n",
    "    for ancestor in word:\n",
    "        if ancestor.text in up:\n",
    "            counters_oil_trade_18['up'] += 1\n",
    "        elif ancestor.text in down:\n",
    "            counters_oil_trade_18['down'] += 1\n",
    "        elif ancestor.text in unchanged:\n",
    "            counters_oil_trade_18['unchanged'] += 1\n",
    "\n",
    "for word in oil_ancestors_emissions_18:\n",
    "    for ancestor in word:\n",
    "        if ancestor.text in up:\n",
    "            counters_oil_emissions_18['up'] += 1\n",
    "        elif ancestor.text in down:\n",
    "            counters_oil_emissions_18['down'] += 1\n",
    "        elif ancestor.text in unchanged:\n",
    "            counters_oil_emissions_18['unchanged'] += 1\n",
    "\n"
   ]
  },
  {
   "cell_type": "code",
   "execution_count": 280,
   "metadata": {},
   "outputs": [
    {
     "name": "stdout",
     "output_type": "stream",
     "text": [
      "Attribute is increasing\n",
      "Attribute is increasing\n",
      "Attribute is increasing\n",
      "Attribute is increasing\n"
     ]
    }
   ],
   "source": [
    "oil_price_18      = scoring(counters_oil_price_18)\n",
    "oil_production_18 = scoring(counters_oil_price_18)\n",
    "oil_trade_18      = scoring(counters_oil_price_18)\n",
    "oil_emissions_18  = scoring(counters_oil_price_18)\n"
   ]
  },
  {
   "cell_type": "code",
   "execution_count": 261,
   "metadata": {},
   "outputs": [],
   "source": [
    "'''\n",
    "Analysis for Solar in 2018.\n",
    "\n",
    "'''\n",
    "\n",
    "solar_tokens_prices_18 = [t for t in pages2018 if any([e in t.string for e in solar_prices])]\n",
    "solar_ancestors_prices_18 = [list(t.ancestors) for t in solar_tokens_prices_18]\n",
    "\n",
    "\n",
    "solar_tokens_production_18 = [t for t in pages2018 if any([e in t.string for e in solar_production])]\n",
    "solar_ancestors_production_18 = [list(t.ancestors) for t in solar_tokens_production_18]\n",
    "\n",
    "solar_tokens_trade_18= [t for t in pages2018 if any([e in t.string for e in solar_trade])]\n",
    "solar_ancestors_trade_18 = [list(t.ancestors) for t in solar_tokens_trade_18]\n",
    "\n",
    "solar_tokens_emissions_18 = [t for t in pages2018 if any([e in t.string for e in solar_emissions])]\n",
    "solar_ancestors_emissions_18 = [list(t.ancestors) for t in solar_tokens_emissions_18]\n",
    "\n"
   ]
  },
  {
   "cell_type": "code",
   "execution_count": 262,
   "metadata": {},
   "outputs": [],
   "source": [
    "counters_solar_price_18 = {'up': 0, 'down': 0, 'unchanged': 0}\n",
    "counters_solar_production_18 = {'up': 0, 'down': 0, 'unchanged': 0}\n",
    "counters_solar_trade_18 = {'up': 0, 'down': 0, 'unchanged': 0}\n",
    "counters_solar_emissions_18 = {'up': 0, 'down': 0, 'unchanged': 0}"
   ]
  },
  {
   "cell_type": "code",
   "execution_count": 263,
   "metadata": {},
   "outputs": [],
   "source": [
    "for word in solar_ancestors_prices_18:\n",
    "    for ancestor in word:\n",
    "        if ancestor.text in up:\n",
    "            counters_solar_price_18['up'] += 1\n",
    "        elif ancestor.text in down:\n",
    "            counters_solar_price_18['down'] += 1\n",
    "        elif ancestor.text in unchanged:\n",
    "            counters_solar_price_18['unchanged'] += 1\n",
    "                   \n",
    "\n",
    "for word in solar_ancestors_production_18:\n",
    "    for ancestor in word:\n",
    "        if ancestor.text in up:\n",
    "            counters_solar_production_18['up'] += 1\n",
    "        elif ancestor.text in down:\n",
    "            counters_solar_production_18['down'] += 1\n",
    "        elif ancestor.text in unchanged:\n",
    "            counters_solar_production_18['unchanged'] += 1\n",
    "\n",
    "for word in solar_ancestors_trade_18:\n",
    "    for ancestor in word:\n",
    "        if ancestor.text in up:\n",
    "            counters_solar_trade_18['up'] += 1\n",
    "        elif ancestor.text in down:\n",
    "            counters_solar_trade_18['down'] += 1\n",
    "        elif ancestor.text in unchanged:\n",
    "            counters_solar_trade_18['unchanged'] += 1\n",
    "\n",
    "for word in solar_ancestors_emissions_18:\n",
    "    for ancestor in word:\n",
    "        if ancestor.text in up:\n",
    "            counters_solar_emissions_18['up'] += 1\n",
    "        elif ancestor.text in down:\n",
    "            counters_solar_emissions_18['down'] += 1\n",
    "        elif ancestor.text in unchanged:\n",
    "            counters_solar_emissions_18['unchanged'] += 1\n",
    "\n"
   ]
  },
  {
   "cell_type": "code",
   "execution_count": 264,
   "metadata": {},
   "outputs": [
    {
     "name": "stdout",
     "output_type": "stream",
     "text": [
      "Attribute is increasing\n",
      "Attribute is increasing\n",
      "Attribute is increasing\n",
      "Attribute is increasing\n"
     ]
    }
   ],
   "source": [
    "solar_price_18      = scoring(counters_solar_price_18)\n",
    "solar_production_18 = scoring(counters_solar_production_18)\n",
    "solar_trade_18      = scoring(counters_solar_trade_18)\n",
    "solar_emissions_18  = scoring(counters_solar_emissions_18)\n"
   ]
  },
  {
   "cell_type": "code",
   "execution_count": 265,
   "metadata": {},
   "outputs": [],
   "source": [
    "'''\n",
    "2018 Analysis for Wind.\n",
    "'''\n",
    "\n",
    "\n",
    "wind_tokens_prices_18 = [t for t in pages2018 if any([e in t.string for e in wind_prices])]\n",
    "wind_ancestors_prices_18 = [list(t.ancestors) for t in wind_tokens_prices_18]\n",
    "\n",
    "\n",
    "wind_tokens_production_18 = [t for t in pages2018 if any([e in t.string for e in wind_production])]\n",
    "wind_ancestors_production_18 = [list(t.ancestors) for t in wind_tokens_production_18]\n",
    "\n",
    "wind_tokens_trade_18= [t for t in pages2018 if any([e in t.string for e in wind_trade])]\n",
    "wind_ancestors_trade_18 = [list(t.ancestors) for t in wind_tokens_trade_18]\n",
    "\n",
    "wind_tokens_emissions_18 = [t for t in pages2018 if any([e in t.string for e in wind_emissions])]\n",
    "wind_ancestors_emissions_18 = [list(t.ancestors) for t in wind_tokens_emissions_18]\n",
    "\n"
   ]
  },
  {
   "cell_type": "code",
   "execution_count": 266,
   "metadata": {},
   "outputs": [],
   "source": [
    "counters_wind_price_18 = {'up': 0, 'down': 0, 'unchanged': 0}\n",
    "counters_wind_production_18 = {'up': 0, 'down': 0, 'unchanged': 0}\n",
    "counters_wind_trade_18 = {'up': 0, 'down': 0, 'unchanged': 0}\n",
    "counters_wind_emissions_18 = {'up': 0, 'down': 0, 'unchanged': 0}"
   ]
  },
  {
   "cell_type": "code",
   "execution_count": 269,
   "metadata": {},
   "outputs": [],
   "source": [
    "for word in wind_ancestors_prices_18:\n",
    "    for ancestor in word:\n",
    "        if ancestor.text in up:\n",
    "            counters_wind_price_18['up'] += 1\n",
    "        elif ancestor.text in down:\n",
    "            counters_wind_price_18['down'] += 1\n",
    "        elif ancestor.text in unchanged:\n",
    "            counters_wind_price_18['unchanged'] += 1\n",
    "                   \n",
    "\n",
    "for word in wind_ancestors_production_18:\n",
    "    for ancestor in word:\n",
    "        if ancestor.text in up:\n",
    "            counters_wind_production_18['up'] += 1\n",
    "        elif ancestor.text in down:\n",
    "            counters_wind_production_18['down'] += 1\n",
    "        elif ancestor.text in unchanged:\n",
    "            counters_wind_production_18['unchanged'] += 1\n",
    "\n",
    "for word in wind_ancestors_trade_18:\n",
    "    for ancestor in word:\n",
    "        if ancestor.text in up:\n",
    "            counters_wind_trade_18['up'] += 1\n",
    "        elif ancestor.text in down:\n",
    "            counters_wind_trade_18['down'] += 1\n",
    "        elif ancestor.text in unchanged:\n",
    "            counters_wind_trade_18['unchanged'] += 1\n",
    "\n",
    "for word in wind_ancestors_emissions_18:\n",
    "    for ancestor in word:\n",
    "        if ancestor.text in up:\n",
    "            counters_wind_emissions_18['up'] += 1\n",
    "        elif ancestor.text in down:\n",
    "            counters_wind_emissions_18['down'] += 1\n",
    "        elif ancestor.text in unchanged:\n",
    "            counters_wind_emissions_18['unchanged'] += 1\n",
    "\n"
   ]
  },
  {
   "cell_type": "code",
   "execution_count": 268,
   "metadata": {},
   "outputs": [
    {
     "name": "stdout",
     "output_type": "stream",
     "text": [
      "Attribute is increasing\n",
      "Attribute is increasing\n",
      "Attribute is increasing\n",
      "Attribute is increasing\n"
     ]
    }
   ],
   "source": [
    "wind_price_18      = scoring(counters_wind_price_18)\n",
    "wind_production_18 = scoring(counters_wind_production_18)\n",
    "wind_trade_18      = scoring(counters_wind_trade_18)\n",
    "wind_emissions_18  = scoring(counters_wind_emissions_18)\n"
   ]
  },
  {
   "cell_type": "code",
   "execution_count": 271,
   "metadata": {},
   "outputs": [],
   "source": [
    "'''\n",
    "Analysis for nuclear power for 2018\n",
    "\n",
    "'''\n",
    "\n",
    "nuclear_tokens_prices_18 = [t for t in pages2018 if any([e in t.string for e in nuclear_prices])]\n",
    "nuclear_ancestors_prices_18 = [list(t.ancestors) for t in nuclear_tokens_prices_18]\n",
    "\n",
    "\n",
    "nuclear_tokens_production_18 = [t for t in pages2018 if any([e in t.string for e in nuclear_production])]\n",
    "nuclear_ancestors_production_18 = [list(t.ancestors) for t in nuclear_tokens_production_18]\n",
    "\n",
    "nuclear_tokens_trade_18= [t for t in pages2018 if any([e in t.string for e in nuclear_trade])]\n",
    "nuclear_ancestors_trade_18 = [list(t.ancestors) for t in nuclear_tokens_trade_18]\n",
    "\n",
    "nuclear_tokens_emissions_18 = [t for t in pages2018 if any([e in t.string for e in nuclear_emissions])]\n",
    "nuclear_ancestors_emissions_18 = [list(t.ancestors) for t in nuclear_tokens_emissions_18]\n",
    "\n"
   ]
  },
  {
   "cell_type": "code",
   "execution_count": 272,
   "metadata": {},
   "outputs": [],
   "source": [
    "counters_nuclear_price_18 = {'up': 0, 'down': 0, 'unchanged': 0}\n",
    "counters_nuclear_production_18 = {'up': 0, 'down': 0, 'unchanged': 0}\n",
    "counters_nuclear_trade_18 = {'up': 0, 'down': 0, 'unchanged': 0}\n",
    "counters_nuclear_emissions_18 = {'up': 0, 'down': 0, 'unchanged': 0}"
   ]
  },
  {
   "cell_type": "code",
   "execution_count": 273,
   "metadata": {},
   "outputs": [],
   "source": [
    "for word in nuclear_ancestors_prices_18:\n",
    "    for ancestor in word:\n",
    "        if ancestor.text in up:\n",
    "            counters_nuclear_price_18['up'] += 1\n",
    "        elif ancestor.text in down:\n",
    "            counters_nuclear_price_18['down'] += 1\n",
    "        elif ancestor.text in unchanged:\n",
    "            counters_nuclear_price_18['unchanged'] += 1\n",
    "                   \n",
    "\n",
    "for word in nuclear_ancestors_production_18:\n",
    "    for ancestor in word:\n",
    "        if ancestor.text in up:\n",
    "            counters_nuclear_production_18['up'] += 1\n",
    "        elif ancestor.text in down:\n",
    "            counters_nuclear_production_18['down'] += 1\n",
    "        elif ancestor.text in unchanged:\n",
    "            counters_nuclear_production_18['unchanged'] += 1\n",
    "\n",
    "for word in nuclear_ancestors_trade_18:\n",
    "    for ancestor in word:\n",
    "        if ancestor.text in up:\n",
    "            counters_nuclear_trade_18['up'] += 1\n",
    "        elif ancestor.text in down:\n",
    "            counters_nuclear_trade_18['down'] += 1\n",
    "        elif ancestor.text in unchanged:\n",
    "            counters_nuclear_trade_18['unchanged'] += 1\n",
    "\n",
    "for word in nuclear_ancestors_emissions_18:\n",
    "    for ancestor in word:\n",
    "        if ancestor.text in up:\n",
    "            counters_nuclear_emissions_18['up'] += 1\n",
    "        elif ancestor.text in down:\n",
    "            counters_nuclear_emissions_18['down'] += 1\n",
    "        elif ancestor.text in unchanged:\n",
    "            counters_nuclear_emissions_18['unchanged'] += 1\n",
    "\n"
   ]
  },
  {
   "cell_type": "code",
   "execution_count": 274,
   "metadata": {},
   "outputs": [
    {
     "name": "stdout",
     "output_type": "stream",
     "text": [
      "Attribute is increasing\n",
      "Attribute is increasing\n",
      "Attribute is increasing\n",
      "Attribute is increasing\n"
     ]
    }
   ],
   "source": [
    "nuclear_price_18      = scoring(counters_nuclear_price_18)\n",
    "nuclear_production_18 = scoring(counters_nuclear_production_18)\n",
    "nuclear_trade_18      = scoring(counters_nuclear_trade_18)\n",
    "nuclear_emissions_18  = scoring(counters_nuclear_emissions_18)"
   ]
  },
  {
   "cell_type": "code",
   "execution_count": 275,
   "metadata": {},
   "outputs": [],
   "source": [
    "'''\n",
    "Analysis for Coal in 2018\n",
    "\n",
    "'''\n",
    "\n",
    "coal_tokens_prices_18 = [t for t in pages2018 if any([e in t.string for e in coal_prices])]\n",
    "coal_ancestors_prices_18 = [list(t.ancestors) for t in coal_tokens_prices_18]\n",
    "\n",
    "\n",
    "coal_tokens_production_18 = [t for t in pages2018 if any([e in t.string for e in coal_production])]\n",
    "coal_ancestors_production_18 = [list(t.ancestors) for t in coal_tokens_production_18]\n",
    "\n",
    "coal_tokens_trade_18= [t for t in pages2018 if any([e in t.string for e in coal_trade])]\n",
    "coal_ancestors_trade_18 = [list(t.ancestors) for t in coal_tokens_trade_18]\n",
    "\n",
    "coal_tokens_emissions_18 = [t for t in pages2018 if any([e in t.string for e in coal_emissions])]\n",
    "coal_ancestors_emissions_18 = [list(t.ancestors) for t in coal_tokens_emissions_18]\n"
   ]
  },
  {
   "cell_type": "code",
   "execution_count": 276,
   "metadata": {},
   "outputs": [],
   "source": [
    "counters_coal_price_18 = {'up': 0, 'down': 0, 'unchanged': 0}\n",
    "counters_coal_production_18 = {'up': 0, 'down': 0, 'unchanged': 0}\n",
    "counters_coal_trade_18 = {'up': 0, 'down': 0, 'unchanged': 0}\n",
    "counters_coal_emissions_18 = {'up': 0, 'down': 0, 'unchanged': 0}"
   ]
  },
  {
   "cell_type": "code",
   "execution_count": 277,
   "metadata": {},
   "outputs": [],
   "source": [
    "for word in coal_ancestors_prices_18:\n",
    "    for ancestor in word:\n",
    "        if ancestor.text in up:\n",
    "            counters_coal_price_18['up'] += 1\n",
    "        elif ancestor.text in down:\n",
    "            counters_coal_price_18['down'] += 1\n",
    "        elif ancestor.text in unchanged:\n",
    "            counters_coal_price_18['unchanged'] += 1\n",
    "                   \n",
    "\n",
    "for word in coal_ancestors_production_18:\n",
    "    for ancestor in word:\n",
    "        if ancestor.text in up:\n",
    "            counters_coal_production_18['up'] += 1\n",
    "        elif ancestor.text in down:\n",
    "            counters_coal_production_18['down'] += 1\n",
    "        elif ancestor.text in unchanged:\n",
    "            counters_coal_production_18['unchanged'] += 1\n",
    "\n",
    "for word in coal_ancestors_trade_18:\n",
    "    for ancestor in word:\n",
    "        if ancestor.text in up:\n",
    "            counters_coal_trade_18['up'] += 1\n",
    "        elif ancestor.text in down:\n",
    "            counters_coal_trade_18['down'] += 1\n",
    "        elif ancestor.text in unchanged:\n",
    "            counters_coal_trade_18['unchanged'] += 1\n",
    "\n",
    "for word in coal_ancestors_emissions_18:\n",
    "    for ancestor in word:\n",
    "        if ancestor.text in up:\n",
    "            counters_coal_emissions_18['up'] += 1\n",
    "        elif ancestor.text in down:\n",
    "            counters_coal_emissions_18['down'] += 1\n",
    "        elif ancestor.text in unchanged:\n",
    "            counters_coal_emissions_18['unchanged'] += 1\n",
    "\n"
   ]
  },
  {
   "cell_type": "code",
   "execution_count": 278,
   "metadata": {},
   "outputs": [
    {
     "name": "stdout",
     "output_type": "stream",
     "text": [
      "Attribute is increasing\n",
      "Attribute is increasing\n",
      "Attribute is increasing\n",
      "Attribute is increasing\n"
     ]
    }
   ],
   "source": [
    "coal_price_18      = scoring(counters_coal_price_18)\n",
    "coal_production_18 = scoring(counters_coal_production_18)\n",
    "coal_trade_18      = scoring(counters_coal_trade_18)\n",
    "coal_emissions_18  = scoring(counters_coal_emissions_18)"
   ]
  },
  {
   "cell_type": "code",
   "execution_count": 279,
   "metadata": {},
   "outputs": [
    {
     "data": {
      "text/html": [
       "<div>\n",
       "<style scoped>\n",
       "    .dataframe tbody tr th:only-of-type {\n",
       "        vertical-align: middle;\n",
       "    }\n",
       "\n",
       "    .dataframe tbody tr th {\n",
       "        vertical-align: top;\n",
       "    }\n",
       "\n",
       "    .dataframe thead th {\n",
       "        text-align: right;\n",
       "    }\n",
       "</style>\n",
       "<table border=\"1\" class=\"dataframe\">\n",
       "  <thead>\n",
       "    <tr style=\"text-align: right;\">\n",
       "      <th></th>\n",
       "      <th>Energy Type</th>\n",
       "      <th>Price</th>\n",
       "      <th>Emissions</th>\n",
       "      <th>Production</th>\n",
       "      <th>Import/Export</th>\n",
       "    </tr>\n",
       "  </thead>\n",
       "  <tbody>\n",
       "    <tr>\n",
       "      <th>0</th>\n",
       "      <td>oil</td>\n",
       "      <td>increasing</td>\n",
       "      <td>increasing</td>\n",
       "      <td>increasing</td>\n",
       "      <td>increasing</td>\n",
       "    </tr>\n",
       "    <tr>\n",
       "      <th>1</th>\n",
       "      <td>nuclear</td>\n",
       "      <td>increasing</td>\n",
       "      <td>increasing</td>\n",
       "      <td>increasing</td>\n",
       "      <td>increasing</td>\n",
       "    </tr>\n",
       "    <tr>\n",
       "      <th>2</th>\n",
       "      <td>wind</td>\n",
       "      <td>increasing</td>\n",
       "      <td>increasing</td>\n",
       "      <td>increasing</td>\n",
       "      <td>increasing</td>\n",
       "    </tr>\n",
       "    <tr>\n",
       "      <th>3</th>\n",
       "      <td>coal</td>\n",
       "      <td>increasing</td>\n",
       "      <td>increasing</td>\n",
       "      <td>increasing</td>\n",
       "      <td>increasing</td>\n",
       "    </tr>\n",
       "    <tr>\n",
       "      <th>4</th>\n",
       "      <td>solar</td>\n",
       "      <td>increasing</td>\n",
       "      <td>increasing</td>\n",
       "      <td>increasing</td>\n",
       "      <td>increasing</td>\n",
       "    </tr>\n",
       "  </tbody>\n",
       "</table>\n",
       "</div>"
      ],
      "text/plain": [
       "  Energy Type       Price   Emissions  Production Import/Export\n",
       "0         oil  increasing  increasing  increasing    increasing\n",
       "1     nuclear  increasing  increasing  increasing    increasing\n",
       "2        wind  increasing  increasing  increasing    increasing\n",
       "3        coal  increasing  increasing  increasing    increasing\n",
       "4       solar  increasing  increasing  increasing    increasing"
      ]
     },
     "execution_count": 279,
     "metadata": {},
     "output_type": "execute_result"
    }
   ],
   "source": [
    "data_18 = {'Energy Type':['oil', 'nuclear', 'wind', 'coal', 'solar'],\n",
    "        'Price':['increasing','increasing','increasing','increasing','increasing'],\n",
    "       'Emissions':['increasing','increasing','increasing','increasing','increasing'],\n",
    "       'Production':['increasing','increasing','increasing','increasing','increasing'],\n",
    "       'Import/Export':['increasing','increasing','increasing','increasing','increasing']}\n",
    " \n",
    "data_2018 = pd.DataFrame(data_18)\n",
    "data_2018"
   ]
  },
  {
   "cell_type": "code",
   "execution_count": null,
   "metadata": {},
   "outputs": [],
   "source": []
  },
  {
   "cell_type": "code",
   "execution_count": null,
   "metadata": {},
   "outputs": [],
   "source": []
  }
 ],
 "metadata": {
  "kernelspec": {
   "display_name": "Python 3",
   "language": "python",
   "name": "python3"
  },
  "language_info": {
   "codemirror_mode": {
    "name": "ipython",
    "version": 3
   },
   "file_extension": ".py",
   "mimetype": "text/x-python",
   "name": "python",
   "nbconvert_exporter": "python",
   "pygments_lexer": "ipython3",
   "version": "3.7.3"
  }
 },
 "nbformat": 4,
 "nbformat_minor": 2
}
